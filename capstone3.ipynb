{
 "cells": [
  {
   "attachments": {},
   "cell_type": "markdown",
   "metadata": {},
   "source": [
    "## **<center><h1>E-commerce Customer Churn Analysis and Prediction</h1></center>**\n",
    "<center>Yoshiando Marudut Simangunsong<center>"
   ]
  },
  {
   "attachments": {},
   "cell_type": "markdown",
   "metadata": {},
   "source": [
    "## *BUSINESS PROBLEM UNDERSTANDING*"
   ]
  },
  {
   "attachments": {},
   "cell_type": "markdown",
   "metadata": {},
   "source": [
    "<h4> Context </h4>"
   ]
  },
  {
   "attachments": {},
   "cell_type": "markdown",
   "metadata": {},
   "source": [
    "E-commerce adalah sebuah bentuk bisnis yang beroperasi melalui internet. Bisnis ini memungkinkan pelanggan untuk membeli dan menjual produk dan jasa tanpa harus bertatap muka dengan penjual. Dalam bisnis e-commerce, penting untuk memahami dan mengatasi tingkat customer churn."
   ]
  },
  {
   "attachments": {},
   "cell_type": "markdown",
   "metadata": {},
   "source": [
    "Tingkat churn dalam artian yang luas merujuk pada tindakan orang(customer) yang meninggalkan grup tertentu dalam waktu tertentu. Jadi bisa diterapkan untuk karyawan yang keluar dari perusahaan atau pelanggan yang mengakhiri langganan layanan misalnya. Tingkat churn yang tinggi dapat sangat merugikan bagi bisnis seperti e-commerce karena mereka perlu memperoleh dan mempertahankan pelanggan untuk menjaga bisnis mereka berkembang. Oleh karena itu, banyak bisnis e-commerce memiliki dataset customer churn untuk memahami dan mengatasi tingkat churn mereka."
   ]
  },
  {
   "attachments": {},
   "cell_type": "markdown",
   "metadata": {},
   "source": [
    "Dataset customer churn biasanya berisi informasi tentang pelanggan yang melakukan pembelian dari bisnis, seperti jumlah pembelian yang dilakukan, waktu pembelian terakhir, dan jenis produk yang dibeli. Informasi ini digunakan untuk menganalisis tingkat churn dan mencari solusi untuk menguranginya. Misalnya, bisnis mungkin menggunakan informasi ini untuk menentukan jenis pelanggan yang paling rentan terhadap churn, dan membuat strategi untuk mempertahankan pelanggan tersebut.  \n",
    "\n",
    "Dalam bisnis e-commerce, customer churn sangat mempengaruhi beberapa metric bisnis penting, seperti tingkat retensi pelanggan, tingkat kepuasan pelanggan, dan kesuksesan pemasaran. Namun, dari segi finansial, metric yang paling terpengaruh oleh customer churn adalah tingkat kesuksesan pemasaran dan tingkat retensi pelanggan."
   ]
  },
  {
   "attachments": {},
   "cell_type": "markdown",
   "metadata": {},
   "source": [
    "<h4> E-commerce Customer Churn Rate </h4>"
   ]
  },
  {
   "attachments": {},
   "cell_type": "markdown",
   "metadata": {},
   "source": [
    "Menghitung tingkat churn untuk perusahaan e-commerce bukanlah hal yang mudah, kecuali perusahaan menjalankan sistem berbasis langganan. Dalam kasus toko e-commerce biasa tidak ada tindakan pasti yang dapat dilakukan pelanggan untuk memperjelas bahwa mereka churn, perlu menerapkan batas waktu yang koheren agar dapat membuat perhitungan ini.\n",
    "\n",
    "Batas waktu ini bisa ditetapkan dengan menganalisis tren transaksi sebelumnya misalnya, dalam kasus repeat order customer, ada rentang waktu rata-rata di antara pembelian. Bergantung pada industrinya mungkin 1 minggu, beberapa minggu, beberapa bulan atau bahkan lebih dari satu tahun. Menggunakan data ini untuk menentukan batas waktu, memungkinkan e-commerce menghitung tingkat churn menggunakan rumus seperti di bawah."
   ]
  },
  {
   "attachments": {},
   "cell_type": "markdown",
   "metadata": {},
   "source": [
    "\\begin{align*}\n",
    "   \\text{Churn Rate} &= \\frac{\\text{number of churns during period}}{\\text{number of customer at beginning of period}}\\\\\n",
    "\\end{align*}"
   ]
  },
  {
   "attachments": {},
   "cell_type": "markdown",
   "metadata": {},
   "source": [
    "Saat melacak dan melihat status churn rate secara keseluruhan atau untuk kelompok pelanggan tertentu, stakeholder mungkin memutuskan untuk menginvestasikan sumber daya untuk memeranginya. Tergantung di mana letak root causenya, ada berbagai strategi dan teknik yang dapat membantu mengurangi churn, seperti:\n",
    "\n",
    "1. Menerapkan pesan yang dipersonalisasi yang dikirim pada saat-saat penting (misalnya tepat sebelum pelanggan akan melakukan churn).\n",
    "2. Mengaktifkan promosi dan penawaran untuk membuat keputusan untuk tidak churn lebih mudah.\n",
    "3. Meningkatkan kegunaan situs web/aplikasi agar pengunjung dapat dengan mudah melakukan transaksi.\n",
    "4. Menjalankan survei kepuasan pelanggan untuk menemukan kebutuhan pengguna yang belum terpenuhi.\n",
    "5. Berinvestasi dalam branding dan loyalitas merek.\n",
    "6. Menerapkan kampanye iklan yang memiliki target (seperti pemasaran sesuai dengan perilaku pengguna)."
   ]
  },
  {
   "attachments": {},
   "cell_type": "markdown",
   "metadata": {},
   "source": [
    "Dari beberapa cara memerangi churn diatas dapat disimpulkan bahwa memiliki prediksi terhadap customer seperti apa yang akan melakukan churn akan sangat membantu bisnis e-commerce. Untuk itu kita dapat melakukan analisis prediktif menggunakan machine learning untuk mengetahui karakteristik customer yang akan churn."
   ]
  },
  {
   "attachments": {},
   "cell_type": "markdown",
   "metadata": {},
   "source": [
    "Target :</br>\n",
    "0 : Tidak churn dalam periode waktu tertentu(loyal)</br>\n",
    "1 : Akan churn dalam periode waktu tertentu"
   ]
  },
  {
   "attachments": {},
   "cell_type": "markdown",
   "metadata": {},
   "source": [
    "<h4> Problem Statement </h4>"
   ]
  },
  {
   "attachments": {},
   "cell_type": "markdown",
   "metadata": {},
   "source": [
    "Di industri e-commerce, customer churn menjadi masalah besar bagi bisnis karena mempertahankan pelanggan lebih murah daripada mencari pelanggan baru. Oleh karena itu, sangat penting untuk memprediksi dan mencegah customer churn. Sejumlah riset mengkonfirmasi pentingnya strategi retensi pelanggan. Riset komprehensif yang dilakukan Bain & Company di dalam buku Tjiptono (2015) terhadap sejumlah industri jasa di Amerika menemukan bahwa loyalitas pelanggan berhubungan positif dengan profitabilitas perusahaan.  \n",
    "\n",
    "Jika diambil sample dari customer sebanyak 100 orang dengan asumsi Central Limit Theorem. Maka sample akan memiliki 16% proporsi customer churn(sesuai dengan dataset). Dari sample ini kita akan hitung retention cost dan acquisition cost dalam periode waktu tertentu.  \n",
    "\\begin{align*}\n",
    "  Customer Acquisiton Cost &= B * 16\\\\\n",
    "\\end{align*}  \n",
    "Sementara itu jika kita tidak ingin melakukan akuisisi maka:\n",
    "\\begin{align*}\n",
    "  Customer Retention Cost &= A * 100\\\\\n",
    "\\end{align*} \n",
    "Dapat disimpulkan, biaya untuk menjaga tingkat revenue perusahaan adalah sebesar:\n",
    "\\begin{align*}\n",
    "  Customer Acquisiton Cost + Customer Retention Cost &= (B * 16) atau (A * 100)\\\\\n",
    "\\end{align*} \n",
    "\n",
    "Untuk memecahkan masalah ini, metode yang digunakan adalah pemodelan machine learning. Ini memungkinkan kita untuk menggunakan data pelanggan dan transaksi sebelumnya untuk memprediksi peluang customer churn. Dengan mengetahui pelanggan yang memiliki kemungkinan besar untuk berhenti berbelanja, bisnis dapat mengambil tindakan untuk mempertahankan pelanggan tersebut dan mengurangi tingkat customer churn."
   ]
  },
  {
   "attachments": {},
   "cell_type": "markdown",
   "metadata": {},
   "source": [
    "asumsi: biaya customer retention lebih murah dibanding biaya akuisisi customer pada industri seperti e-commerce."
   ]
  },
  {
   "attachments": {},
   "cell_type": "markdown",
   "metadata": {},
   "source": [
    "<h4> Goal </h4>"
   ]
  },
  {
   "attachments": {},
   "cell_type": "markdown",
   "metadata": {},
   "source": [
    "Memprediksi tingkat churn pelanggan e-commerce untuk membantu perusahaan mengidentifikasi pelanggan yang berpotensi untuk berpindah ke perusahaan lain atau berhenti berbelanja dari perusahaan kita. Dengan memprediksi churn pelanggan, perusahaan dapat mengambil tindakan untuk mempertahankan pelanggan tersebut dan meminimalkan dampak negatif pada bisnis perusahaan kita. Machine learning dapat membantu mencapai tujuan ini dengan menganalisis data historis tentang pelanggan dan membuat model untuk memprediksi tingkat churn di masa depan"
   ]
  },
  {
   "attachments": {},
   "cell_type": "markdown",
   "metadata": {},
   "source": [
    "Meminimalkan biaya untuk menjaga tingkat revenue dan profibilitas perusahaan(Retention Cost)."
   ]
  },
  {
   "attachments": {},
   "cell_type": "markdown",
   "metadata": {},
   "source": [
    "<h4> Metric Evaluation </h4>"
   ]
  },
  {
   "attachments": {},
   "cell_type": "markdown",
   "metadata": {},
   "source": [
    "Type 1 Error: False Positive (Customer diprediksi churn, namun tidak melakukan churn pada periode waktu yang ditentukan berakhir)</br>\n",
    "Konsekuensi: Usaha dalam melakukan retensi customer akan sia-sia atau kerugian sejumlah retention cost.\n",
    "\n",
    "Type 2 Error: False Negative (Customer diprediksi tidak churn, namun melakukan churn pada periode waktu berakhir)  \n",
    "Konsekuensi: Budget atau dana yang seharusnya dialokasikan pada customer sebesar retention cost menjadi sebesar acquisition cost(lebih besar)</br>\n",
    "</br>\n",
    "Dapat disimpulkan bahwa False Negative rate harus diminimalkan atau Recall harus dioptimalkan.\n",
    "\n",
    "Pada type 1 error akan dijelaskan lebih lanjut pada video presentasi.\n"
   ]
  },
  {
   "attachments": {},
   "cell_type": "markdown",
   "metadata": {},
   "source": [
    "## *DATA UNDERSTANDING AND PRE-PROCESSING*"
   ]
  },
  {
   "cell_type": "code",
   "execution_count": 313,
   "metadata": {},
   "outputs": [],
   "source": [
    "# Library\n",
    "\n",
    "import pandas as pd\n",
    "import numpy as np\n",
    "\n",
    "# Visualization\n",
    "import matplotlib.pyplot as plt\n",
    "import seaborn as sns\n",
    "import missingno\n",
    "from IPython.display import display\n",
    "\n",
    "# Feature Engineering\n",
    "from sklearn.pipeline import Pipeline\n",
    "from sklearn.impute import SimpleImputer\n",
    "from sklearn.preprocessing import OneHotEncoder, LabelEncoder, OrdinalEncoder\n",
    "from sklearn.compose import ColumnTransformer\n",
    "import category_encoders as ce\n",
    "from imblearn.over_sampling import RandomOverSampler, SMOTE\n",
    "from imblearn.under_sampling import RandomUnderSampler, NearMiss\n",
    "\n",
    "\n",
    "# Model Selection\n",
    "from sklearn.linear_model import LogisticRegression\n",
    "from sklearn.tree import DecisionTreeClassifier\n",
    "from sklearn.model_selection import GridSearchCV,StratifiedKFold,train_test_split, cross_val_score\n",
    "from sklearn.metrics import classification_report, confusion_matrix\n",
    "from sklearn.neighbors import KNeighborsClassifier\n",
    "from sklearn.ensemble import RandomForestClassifier\n",
    "from xgboost import XGBClassifier\n",
    "import lightgbm as lgb\n",
    "from sklearn.metrics import f1_score, accuracy_score, recall_score, precision_score\n",
    "from sklearn.metrics import roc_curve, roc_auc_score, plot_roc_curve\n",
    "\n",
    "# Imbalance Dataset\n",
    "from imblearn.pipeline import Pipeline\n",
    "from imblearn.over_sampling import RandomOverSampler\n",
    "\n",
    "# Ignore Warning\n",
    "import sys\n",
    "import warnings\n",
    "if not sys.warnoptions:\n",
    "    warnings.simplefilter(\"ignore\")\n",
    "\n",
    "# Set max columns\n",
    "pd.set_option('display.max_columns', None)"
   ]
  },
  {
   "attachments": {},
   "cell_type": "markdown",
   "metadata": {},
   "source": [
    "<h4>Data Variable Description from Kaggle:</h4>\n",
    "1. Churn = Churn Flag. </br>\n",
    "2. Tenure = Tenure of customer in organization.</br>\n",
    "3. WarehouseToHome = Distance in between warehouse to home of customer.</br>\n",
    "4. NumberOfDeviceRegistered = Total number of deceives is registered on particular customer.</br>\n",
    "5. PreferedOrderCat = Preferred order category of customer in last month.</br>\n",
    "6. SatisfactionScore = Satisfactory score of customer on service.</br>\n",
    "7. MaritalStatus = Marital status of customer.</br>\n",
    "8. NumberOfAddress = Total number of address added on particular customer.</br>\n",
    "9. Complain = Any complaint has been raised in last month.</br>\n",
    "10. CashbackAmount = Average cashback in last month.</br>\n",
    "11. DaySinceLastOrder = Day Since last order by customer.</br>"
   ]
  },
  {
   "cell_type": "code",
   "execution_count": 314,
   "metadata": {},
   "outputs": [
    {
     "data": {
      "text/html": [
       "<div>\n",
       "<style scoped>\n",
       "    .dataframe tbody tr th:only-of-type {\n",
       "        vertical-align: middle;\n",
       "    }\n",
       "\n",
       "    .dataframe tbody tr th {\n",
       "        vertical-align: top;\n",
       "    }\n",
       "\n",
       "    .dataframe thead th {\n",
       "        text-align: right;\n",
       "    }\n",
       "</style>\n",
       "<table border=\"1\" class=\"dataframe\">\n",
       "  <thead>\n",
       "    <tr style=\"text-align: right;\">\n",
       "      <th></th>\n",
       "      <th>Tenure</th>\n",
       "      <th>WarehouseToHome</th>\n",
       "      <th>NumberOfDeviceRegistered</th>\n",
       "      <th>PreferedOrderCat</th>\n",
       "      <th>SatisfactionScore</th>\n",
       "      <th>MaritalStatus</th>\n",
       "      <th>NumberOfAddress</th>\n",
       "      <th>Complain</th>\n",
       "      <th>DaySinceLastOrder</th>\n",
       "      <th>CashbackAmount</th>\n",
       "      <th>Churn</th>\n",
       "    </tr>\n",
       "  </thead>\n",
       "  <tbody>\n",
       "    <tr>\n",
       "      <th>0</th>\n",
       "      <td>15.0</td>\n",
       "      <td>29.0</td>\n",
       "      <td>4</td>\n",
       "      <td>Laptop &amp; Accessory</td>\n",
       "      <td>3</td>\n",
       "      <td>Single</td>\n",
       "      <td>2</td>\n",
       "      <td>0</td>\n",
       "      <td>7.0</td>\n",
       "      <td>143.32</td>\n",
       "      <td>0</td>\n",
       "    </tr>\n",
       "    <tr>\n",
       "      <th>1</th>\n",
       "      <td>7.0</td>\n",
       "      <td>25.0</td>\n",
       "      <td>4</td>\n",
       "      <td>Mobile</td>\n",
       "      <td>1</td>\n",
       "      <td>Married</td>\n",
       "      <td>2</td>\n",
       "      <td>0</td>\n",
       "      <td>7.0</td>\n",
       "      <td>129.29</td>\n",
       "      <td>0</td>\n",
       "    </tr>\n",
       "    <tr>\n",
       "      <th>2</th>\n",
       "      <td>27.0</td>\n",
       "      <td>13.0</td>\n",
       "      <td>3</td>\n",
       "      <td>Laptop &amp; Accessory</td>\n",
       "      <td>1</td>\n",
       "      <td>Married</td>\n",
       "      <td>5</td>\n",
       "      <td>0</td>\n",
       "      <td>7.0</td>\n",
       "      <td>168.54</td>\n",
       "      <td>0</td>\n",
       "    </tr>\n",
       "    <tr>\n",
       "      <th>3</th>\n",
       "      <td>20.0</td>\n",
       "      <td>25.0</td>\n",
       "      <td>4</td>\n",
       "      <td>Fashion</td>\n",
       "      <td>3</td>\n",
       "      <td>Divorced</td>\n",
       "      <td>7</td>\n",
       "      <td>0</td>\n",
       "      <td>NaN</td>\n",
       "      <td>230.27</td>\n",
       "      <td>0</td>\n",
       "    </tr>\n",
       "    <tr>\n",
       "      <th>4</th>\n",
       "      <td>30.0</td>\n",
       "      <td>15.0</td>\n",
       "      <td>4</td>\n",
       "      <td>Others</td>\n",
       "      <td>4</td>\n",
       "      <td>Single</td>\n",
       "      <td>8</td>\n",
       "      <td>0</td>\n",
       "      <td>8.0</td>\n",
       "      <td>322.17</td>\n",
       "      <td>0</td>\n",
       "    </tr>\n",
       "    <tr>\n",
       "      <th>...</th>\n",
       "      <td>...</td>\n",
       "      <td>...</td>\n",
       "      <td>...</td>\n",
       "      <td>...</td>\n",
       "      <td>...</td>\n",
       "      <td>...</td>\n",
       "      <td>...</td>\n",
       "      <td>...</td>\n",
       "      <td>...</td>\n",
       "      <td>...</td>\n",
       "      <td>...</td>\n",
       "    </tr>\n",
       "    <tr>\n",
       "      <th>3936</th>\n",
       "      <td>28.0</td>\n",
       "      <td>9.0</td>\n",
       "      <td>5</td>\n",
       "      <td>Fashion</td>\n",
       "      <td>3</td>\n",
       "      <td>Married</td>\n",
       "      <td>8</td>\n",
       "      <td>0</td>\n",
       "      <td>1.0</td>\n",
       "      <td>231.86</td>\n",
       "      <td>0</td>\n",
       "    </tr>\n",
       "    <tr>\n",
       "      <th>3937</th>\n",
       "      <td>8.0</td>\n",
       "      <td>7.0</td>\n",
       "      <td>2</td>\n",
       "      <td>Mobile Phone</td>\n",
       "      <td>2</td>\n",
       "      <td>Single</td>\n",
       "      <td>4</td>\n",
       "      <td>0</td>\n",
       "      <td>4.0</td>\n",
       "      <td>157.80</td>\n",
       "      <td>0</td>\n",
       "    </tr>\n",
       "    <tr>\n",
       "      <th>3938</th>\n",
       "      <td>30.0</td>\n",
       "      <td>6.0</td>\n",
       "      <td>5</td>\n",
       "      <td>Laptop &amp; Accessory</td>\n",
       "      <td>3</td>\n",
       "      <td>Married</td>\n",
       "      <td>3</td>\n",
       "      <td>1</td>\n",
       "      <td>2.0</td>\n",
       "      <td>156.60</td>\n",
       "      <td>0</td>\n",
       "    </tr>\n",
       "    <tr>\n",
       "      <th>3939</th>\n",
       "      <td>6.0</td>\n",
       "      <td>NaN</td>\n",
       "      <td>4</td>\n",
       "      <td>Mobile</td>\n",
       "      <td>3</td>\n",
       "      <td>Married</td>\n",
       "      <td>10</td>\n",
       "      <td>1</td>\n",
       "      <td>0.0</td>\n",
       "      <td>124.37</td>\n",
       "      <td>1</td>\n",
       "    </tr>\n",
       "    <tr>\n",
       "      <th>3940</th>\n",
       "      <td>2.0</td>\n",
       "      <td>7.0</td>\n",
       "      <td>3</td>\n",
       "      <td>Laptop &amp; Accessory</td>\n",
       "      <td>5</td>\n",
       "      <td>Married</td>\n",
       "      <td>1</td>\n",
       "      <td>0</td>\n",
       "      <td>2.0</td>\n",
       "      <td>153.73</td>\n",
       "      <td>0</td>\n",
       "    </tr>\n",
       "  </tbody>\n",
       "</table>\n",
       "<p>3941 rows × 11 columns</p>\n",
       "</div>"
      ],
      "text/plain": [
       "      Tenure  WarehouseToHome  NumberOfDeviceRegistered    PreferedOrderCat  \\\n",
       "0       15.0             29.0                         4  Laptop & Accessory   \n",
       "1        7.0             25.0                         4              Mobile   \n",
       "2       27.0             13.0                         3  Laptop & Accessory   \n",
       "3       20.0             25.0                         4             Fashion   \n",
       "4       30.0             15.0                         4              Others   \n",
       "...      ...              ...                       ...                 ...   \n",
       "3936    28.0              9.0                         5             Fashion   \n",
       "3937     8.0              7.0                         2        Mobile Phone   \n",
       "3938    30.0              6.0                         5  Laptop & Accessory   \n",
       "3939     6.0              NaN                         4              Mobile   \n",
       "3940     2.0              7.0                         3  Laptop & Accessory   \n",
       "\n",
       "      SatisfactionScore MaritalStatus  NumberOfAddress  Complain  \\\n",
       "0                     3        Single                2         0   \n",
       "1                     1       Married                2         0   \n",
       "2                     1       Married                5         0   \n",
       "3                     3      Divorced                7         0   \n",
       "4                     4        Single                8         0   \n",
       "...                 ...           ...              ...       ...   \n",
       "3936                  3       Married                8         0   \n",
       "3937                  2        Single                4         0   \n",
       "3938                  3       Married                3         1   \n",
       "3939                  3       Married               10         1   \n",
       "3940                  5       Married                1         0   \n",
       "\n",
       "      DaySinceLastOrder  CashbackAmount  Churn  \n",
       "0                   7.0          143.32      0  \n",
       "1                   7.0          129.29      0  \n",
       "2                   7.0          168.54      0  \n",
       "3                   NaN          230.27      0  \n",
       "4                   8.0          322.17      0  \n",
       "...                 ...             ...    ...  \n",
       "3936                1.0          231.86      0  \n",
       "3937                4.0          157.80      0  \n",
       "3938                2.0          156.60      0  \n",
       "3939                0.0          124.37      1  \n",
       "3940                2.0          153.73      0  \n",
       "\n",
       "[3941 rows x 11 columns]"
      ]
     },
     "execution_count": 314,
     "metadata": {},
     "output_type": "execute_result"
    }
   ],
   "source": [
    "data = pd.read_csv('data_ecommerce_customer_churn.csv')\n",
    "data"
   ]
  },
  {
   "cell_type": "code",
   "execution_count": 315,
   "metadata": {},
   "outputs": [
    {
     "data": {
      "text/plain": [
       "Index(['Tenure', 'WarehouseToHome', 'NumberOfDeviceRegistered',\n",
       "       'PreferedOrderCat', 'SatisfactionScore', 'MaritalStatus',\n",
       "       'NumberOfAddress', 'Complain', 'DaySinceLastOrder', 'CashbackAmount',\n",
       "       'Churn'],\n",
       "      dtype='object')"
      ]
     },
     "execution_count": 315,
     "metadata": {},
     "output_type": "execute_result"
    }
   ],
   "source": [
    "data.columns"
   ]
  },
  {
   "cell_type": "code",
   "execution_count": 316,
   "metadata": {},
   "outputs": [
    {
     "data": {
      "text/html": [
       "<div>\n",
       "<style scoped>\n",
       "    .dataframe tbody tr th:only-of-type {\n",
       "        vertical-align: middle;\n",
       "    }\n",
       "\n",
       "    .dataframe tbody tr th {\n",
       "        vertical-align: top;\n",
       "    }\n",
       "\n",
       "    .dataframe thead th {\n",
       "        text-align: right;\n",
       "    }\n",
       "</style>\n",
       "<table border=\"1\" class=\"dataframe\">\n",
       "  <thead>\n",
       "    <tr style=\"text-align: right;\">\n",
       "      <th></th>\n",
       "      <th>data features</th>\n",
       "      <th>data type</th>\n",
       "      <th>null</th>\n",
       "      <th>null percentage</th>\n",
       "      <th>unique</th>\n",
       "      <th>unique value</th>\n",
       "    </tr>\n",
       "  </thead>\n",
       "  <tbody>\n",
       "    <tr>\n",
       "      <th>0</th>\n",
       "      <td>Tenure</td>\n",
       "      <td>float64</td>\n",
       "      <td>194</td>\n",
       "      <td>4.92</td>\n",
       "      <td>36</td>\n",
       "      <td>[15.0, 7.0, 27.0, 20.0, 30.0, 1.0, 11.0, 17.0,...</td>\n",
       "    </tr>\n",
       "    <tr>\n",
       "      <th>1</th>\n",
       "      <td>WarehouseToHome</td>\n",
       "      <td>float64</td>\n",
       "      <td>169</td>\n",
       "      <td>4.29</td>\n",
       "      <td>33</td>\n",
       "      <td>[29.0, 25.0, 13.0, 15.0, 16.0, 11.0, 12.0, 7.0...</td>\n",
       "    </tr>\n",
       "    <tr>\n",
       "      <th>2</th>\n",
       "      <td>NumberOfDeviceRegistered</td>\n",
       "      <td>int64</td>\n",
       "      <td>0</td>\n",
       "      <td>0.00</td>\n",
       "      <td>6</td>\n",
       "      <td>[4, 3, 6, 2, 5, 1]</td>\n",
       "    </tr>\n",
       "    <tr>\n",
       "      <th>3</th>\n",
       "      <td>PreferedOrderCat</td>\n",
       "      <td>object</td>\n",
       "      <td>0</td>\n",
       "      <td>0.00</td>\n",
       "      <td>6</td>\n",
       "      <td>[Laptop &amp; Accessory, Mobile, Fashion, Others, ...</td>\n",
       "    </tr>\n",
       "    <tr>\n",
       "      <th>4</th>\n",
       "      <td>SatisfactionScore</td>\n",
       "      <td>int64</td>\n",
       "      <td>0</td>\n",
       "      <td>0.00</td>\n",
       "      <td>5</td>\n",
       "      <td>[3, 1, 4, 2, 5]</td>\n",
       "    </tr>\n",
       "    <tr>\n",
       "      <th>5</th>\n",
       "      <td>MaritalStatus</td>\n",
       "      <td>object</td>\n",
       "      <td>0</td>\n",
       "      <td>0.00</td>\n",
       "      <td>3</td>\n",
       "      <td>[Single, Married, Divorced]</td>\n",
       "    </tr>\n",
       "    <tr>\n",
       "      <th>6</th>\n",
       "      <td>NumberOfAddress</td>\n",
       "      <td>int64</td>\n",
       "      <td>0</td>\n",
       "      <td>0.00</td>\n",
       "      <td>14</td>\n",
       "      <td>[2, 5, 7, 8, 3, 1, 9, 4, 10, 11, 6, 19, 22, 21]</td>\n",
       "    </tr>\n",
       "    <tr>\n",
       "      <th>7</th>\n",
       "      <td>Complain</td>\n",
       "      <td>int64</td>\n",
       "      <td>0</td>\n",
       "      <td>0.00</td>\n",
       "      <td>2</td>\n",
       "      <td>[0, 1]</td>\n",
       "    </tr>\n",
       "    <tr>\n",
       "      <th>8</th>\n",
       "      <td>DaySinceLastOrder</td>\n",
       "      <td>float64</td>\n",
       "      <td>213</td>\n",
       "      <td>5.40</td>\n",
       "      <td>22</td>\n",
       "      <td>[7.0, nan, 8.0, 11.0, 2.0, 1.0, 4.0, 3.0, 6.0,...</td>\n",
       "    </tr>\n",
       "    <tr>\n",
       "      <th>9</th>\n",
       "      <td>CashbackAmount</td>\n",
       "      <td>float64</td>\n",
       "      <td>0</td>\n",
       "      <td>0.00</td>\n",
       "      <td>2335</td>\n",
       "      <td>[143.32, 129.29, 168.54, 230.27, 322.17, 152.8...</td>\n",
       "    </tr>\n",
       "    <tr>\n",
       "      <th>10</th>\n",
       "      <td>Churn</td>\n",
       "      <td>int64</td>\n",
       "      <td>0</td>\n",
       "      <td>0.00</td>\n",
       "      <td>2</td>\n",
       "      <td>[0, 1]</td>\n",
       "    </tr>\n",
       "  </tbody>\n",
       "</table>\n",
       "</div>"
      ],
      "text/plain": [
       "               data features data type  null  null percentage  unique  \\\n",
       "0                     Tenure   float64   194             4.92      36   \n",
       "1            WarehouseToHome   float64   169             4.29      33   \n",
       "2   NumberOfDeviceRegistered     int64     0             0.00       6   \n",
       "3           PreferedOrderCat    object     0             0.00       6   \n",
       "4          SatisfactionScore     int64     0             0.00       5   \n",
       "5              MaritalStatus    object     0             0.00       3   \n",
       "6            NumberOfAddress     int64     0             0.00      14   \n",
       "7                   Complain     int64     0             0.00       2   \n",
       "8          DaySinceLastOrder   float64   213             5.40      22   \n",
       "9             CashbackAmount   float64     0             0.00    2335   \n",
       "10                     Churn     int64     0             0.00       2   \n",
       "\n",
       "                                         unique value  \n",
       "0   [15.0, 7.0, 27.0, 20.0, 30.0, 1.0, 11.0, 17.0,...  \n",
       "1   [29.0, 25.0, 13.0, 15.0, 16.0, 11.0, 12.0, 7.0...  \n",
       "2                                  [4, 3, 6, 2, 5, 1]  \n",
       "3   [Laptop & Accessory, Mobile, Fashion, Others, ...  \n",
       "4                                     [3, 1, 4, 2, 5]  \n",
       "5                         [Single, Married, Divorced]  \n",
       "6     [2, 5, 7, 8, 3, 1, 9, 4, 10, 11, 6, 19, 22, 21]  \n",
       "7                                              [0, 1]  \n",
       "8   [7.0, nan, 8.0, 11.0, 2.0, 1.0, 4.0, 3.0, 6.0,...  \n",
       "9   [143.32, 129.29, 168.54, 230.27, 322.17, 152.8...  \n",
       "10                                             [0, 1]  "
      ]
     },
     "execution_count": 316,
     "metadata": {},
     "output_type": "execute_result"
    }
   ],
   "source": [
    "listItem = []\n",
    "for col in data.columns :\n",
    "    listItem.append([col, data[col].dtype, data[col].isna().sum(), round((data[col].isna().sum()/len(data[col])) * 100,2),\n",
    "                    data[col].nunique(), list(data[col].unique())])\n",
    "\n",
    "dataDesc = pd.DataFrame(columns=['data features', 'data type', 'null', 'null percentage', 'unique', 'unique value'],\n",
    "                     data=listItem)\n",
    "dataDesc"
   ]
  },
  {
   "attachments": {},
   "cell_type": "markdown",
   "metadata": {},
   "source": [
    "<h4>Data Description by Domain Knowledge</h4>"
   ]
  },
  {
   "attachments": {},
   "cell_type": "markdown",
   "metadata": {},
   "source": [
    "1. Dalam dataset e-commerce churn, kolom \"Tenure\" menunjukkan jumlah waktu dalam satuan tertentu yang diasumsikan berarti lama pelanggan menjadi customer. Informasi ini dapat digunakan untuk memahami hubungan antara seberapa familiar pelanggan dan kemungkinan mereka untuk churn, atau berhenti menggunakan layanan. Misalnya, pelanggan yang telah menggunakan platform untuk waktu yang lama, mungkin lebih kecil kemungkinannya untuk churn, sementara mereka yang baru mungkin lebih cenderung mencoba layanan yang berbeda atau churn jika mereka tidak puas.\n",
    "\n",
    "2. \"Warehouse to home\" adalah jarak antara gudang penyimpanan produk dan rumah pelanggan. Ini menunjukkan berapa jauh produk harus dikirimkan dari gudang ke rumah pelanggan. Semakin dekat jarak antara gudang dan rumah pelanggan, semakin cepat produk dapat diterima oleh pelanggan. Oleh karena itu, jarak ini mungkin mempengaruhi kepuasan pelanggan dan kemungkinan mereka untuk bertahan sebagai pelanggan.\n",
    "\n",
    "3. \"Number of Device Registered\" adalah jumlah perangkat yang terdaftar pada akun pelanggan. Ini menunjukkan berapa banyak perangkat yang digunakan oleh pelanggan untuk melakukan transaksi pada e-commerce. Misalnya, jika pelanggan memiliki 2 perangkat yang terdaftar pada akun mereka, maka nilai kolom ini akan bernilai 2. Ada beberapa cara untuk menganalisis korelasi antara jumlah perangkat yang terdaftar dengan tingkat churn pelanggan. Misalnya, jika pelanggan memiliki lebih banyak perangkat terdaftar, mereka mungkin lebih memiliki engagement dengan toko e-commerce dan kemungkinan besar akan lebih sedikit churn. Sebaliknya, jika pelanggan hanya memiliki satu perangkat terdaftar, mereka mungkin kurang memiliki interaksi dengan toko e-commerce dan lebih mungkin untuk churn. Oleh karena itu, penting untuk mengamati korelasi antara \"Number of Device Registered\" dengan tingkat churn pelanggan untuk memahami bagaimana faktor ini mempengaruhi tingkat churn pelanggan.\n",
    "\n",
    "4. Kolom \"Prefered Order Category\" adalah kolom yang menunjukkan kategori pemesanan yang paling sering dilakukan oleh pelanggan. Ada beberapa kategori yang mungkin ada, seperti elektronik, pakaian, kosmetik, dan sebagainya. Dalam hal ini, korelasi antara \"Prefered Order Category\" dan churn bisa dianalisis dengan melihat seberapa sering pelanggan memesan produk dalam kategori tersebut dan seberapa sering mereka melakukan churn. Jika pelanggan sering melakukan pemesanan dalam kategori tertentu dan tidak sering melakukan churn, maka dapat dikatakan bahwa preferensi pemesanan mereka memiliki korelasi negatif dengan tingkat churn. Sebaliknya, jika pelanggan sering melakukan churn setelah memesan produk dalam kategori tertentu, maka dapat dikatakan bahwa preferensi pemesanan mereka memiliki korelasi positif dengan tingkat churn.\n",
    "\n",
    "5. \"Satisfaction Score\" adalah skor yang mengukur tingkat kepuasan pelanggan terhadap layanan yang diterima dari sebuah toko online. Skor ini biasanya diberikan setelah pelanggan melakukan transaksi atau menggunakan layanan dari toko tersebut. Tingkat kepuasan pelanggan sangat penting karena dapat mempengaruhi keputusan mereka untuk terus berbelanja di toko tersebut atau memutuskan untuk meninggalkan toko dan beralih ke toko lain. Oleh karena itu, skor kepuasan sangat penting dalam memprediksi tingkat \"churn\" pelanggan, yaitu tingkat pelanggan yang memutuskan untuk tidak berbelanja lagi di toko tersebut. Jika skor kepuasan rendah, peluang pelanggan untuk \"churn\" akan lebih tinggi. Sebaliknya, jika skor kepuasan tinggi, peluang pelanggan untuk \"churn\" akan lebih rendah.\n",
    "\n",
    "6. Dalam kolom status perkawinan, ada tiga kategori, yaitu \"single\" (tidak menikah), \"married\" (menikah), dan \"divorced\" (bercerai). Korrelasi antara masing-masing kategori dengan tingkat churn dapat ditemukan melalui analisis data. Dalam analisis ini,  saya akan membandingkan tingkat churn antara pelanggan yang berstatus single, married, dan divorced untuk menentukan apakah ada hubungan yang signifikan antara status perkawinan dan tingkat churn. Namun, perlu diingat bahwa korrelasi tidak selalu menunjukkan adanya kausalitas, jadi perlu diperhatikan juga faktor lain yang mungkin mempengaruhi tingkat churn.\n",
    "\n",
    "7. Kolom \"Number of Address\" adalah yang mencatat jumlah alamat yang dimiliki oleh pelanggan e-commerce. Correlation antara \"Number of Address\" dengan tingkat churn bisa menunjukkan apakah pelanggan yang memiliki lebih dari satu alamat cenderung lebih stabil atau lebih mungkin untuk tidak churn. Jika pelanggan memiliki lebih dari satu alamat, maka ini bisa menunjukkan bahwa mereka memiliki keperluan yang lebih besar dan mungkin kurang mungkin untuk meninggalkan layanan e-commerce. Namun, hal ini harus diuji secara statistik untuk memastikan adanya korelasi yang signifikan. Pengubahan data menjadi kategorik bisa dilakukan untuk mempermudah analisis dan meminimalisir perbedaan skala yang mungkin mempengaruhi hasil analisis. Dalam hal ini, jumlah alamat mungkin memiliki banyak nilai yang berbeda yang membuat sulit untuk dianalisis. Oleh karena itu, membuat kategori seperti \"satu alamat\", \"dua alamat\", \"tiga alamat\" dll. membuat data lebih mudah dianalisis.\n",
    "\n",
    "8. Kolom \"Complain\" menunjukkan apakah pelanggan melakukan komplain atau tidak dalam waktu sebulan terakhir. Nilai \"1\" menunjukkan bahwa pelanggan melakukan komplain dalam waktu tersebut, dan nilai \"0\" menunjukkan bahwa pelanggan tidak melakukan komplain. Korelasi antara kolom \"Complain\" dan \"Churn\" dapat dianalisis untuk menentukan apakah pelanggan yang melakukan komplain memiliki kecenderungan untuk berhenti berlangganan (churn) atau tidak. Jika ditemukan bahwa pelanggan yang melakukan komplain memiliki tingkat churn yang lebih tinggi dibandingkan pelanggan yang tidak melakukan komplain, maka kolom \"Complain\" dapat dianggap sebagai faktor risiko yang mempengaruhi churn.\n",
    "\n",
    "9. Cashback Amount adalah kolom yang menunjukkan jumlah rata-rata cashback yang didapatkan oleh pelanggan dalam satu bulan terakhir. Dalam hal ini, cashback adalah program promosi yang diberikan oleh perusahaan e-commerce kepada pelanggan untuk memberikan insentif agar mereka terus berbelanja. Korelasi antara Cashback Amount dan Churn dapat dianalisis untuk mengetahui apakah ada hubungan antara jumlah cashback yang didapatkan pelanggan dengan keputusan mereka untuk tetap atau tidak bertahan sebagai pelanggan.\n",
    "\n",
    "10. Kolom \"Days Since Last Order\" adalah kolom yang menunjukkan seberapa lama waktu yang telah berlalu sejak pelanggan melakukan pemesanan terakhir. Dalam konteks ini, churn biasanya didefinisikan sebagai pelanggan yang tidak melakukan pemesanan dalam jangka waktu tertentu. Oleh karena itu, kolom \"Days Since Last Order\" sangat penting untuk mempengaruhi definisi churn, karena membantu menentukan apakah pelanggan masih aktif atau sudah tidak aktif. Jika kolom \"Days Since Last Order\" memiliki korelasi yang kuat dengan churn, maka dapat dikatakan bahwa pelanggan yang melakukan pemesanan lebih jarang cenderung memiliki tingkat churn yang lebih tinggi. Oleh karena itu, analisis korelasi antara kolom ini dengan churn akan memberikan informasi yang berguna untuk memahami faktor-faktor apa saja yang mempengaruhi churn pelanggan."
   ]
  },
  {
   "attachments": {},
   "cell_type": "markdown",
   "metadata": {},
   "source": [
    "<h4>Memeriksa data duplikat</h4>"
   ]
  },
  {
   "cell_type": "code",
   "execution_count": 317,
   "metadata": {},
   "outputs": [
    {
     "data": {
      "text/html": [
       "<div>\n",
       "<style scoped>\n",
       "    .dataframe tbody tr th:only-of-type {\n",
       "        vertical-align: middle;\n",
       "    }\n",
       "\n",
       "    .dataframe tbody tr th {\n",
       "        vertical-align: top;\n",
       "    }\n",
       "\n",
       "    .dataframe thead th {\n",
       "        text-align: right;\n",
       "    }\n",
       "</style>\n",
       "<table border=\"1\" class=\"dataframe\">\n",
       "  <thead>\n",
       "    <tr style=\"text-align: right;\">\n",
       "      <th></th>\n",
       "      <th>Tenure</th>\n",
       "      <th>WarehouseToHome</th>\n",
       "      <th>NumberOfDeviceRegistered</th>\n",
       "      <th>PreferedOrderCat</th>\n",
       "      <th>SatisfactionScore</th>\n",
       "      <th>MaritalStatus</th>\n",
       "      <th>NumberOfAddress</th>\n",
       "      <th>Complain</th>\n",
       "      <th>DaySinceLastOrder</th>\n",
       "      <th>CashbackAmount</th>\n",
       "      <th>Churn</th>\n",
       "    </tr>\n",
       "  </thead>\n",
       "  <tbody>\n",
       "    <tr>\n",
       "      <th>70</th>\n",
       "      <td>1.0</td>\n",
       "      <td>11.0</td>\n",
       "      <td>4</td>\n",
       "      <td>Mobile Phone</td>\n",
       "      <td>5</td>\n",
       "      <td>Single</td>\n",
       "      <td>3</td>\n",
       "      <td>0</td>\n",
       "      <td>1.0</td>\n",
       "      <td>154.73</td>\n",
       "      <td>1</td>\n",
       "    </tr>\n",
       "    <tr>\n",
       "      <th>128</th>\n",
       "      <td>1.0</td>\n",
       "      <td>10.0</td>\n",
       "      <td>4</td>\n",
       "      <td>Mobile Phone</td>\n",
       "      <td>1</td>\n",
       "      <td>Single</td>\n",
       "      <td>3</td>\n",
       "      <td>1</td>\n",
       "      <td>1.0</td>\n",
       "      <td>140.69</td>\n",
       "      <td>1</td>\n",
       "    </tr>\n",
       "    <tr>\n",
       "      <th>194</th>\n",
       "      <td>18.0</td>\n",
       "      <td>26.0</td>\n",
       "      <td>3</td>\n",
       "      <td>Laptop &amp; Accessory</td>\n",
       "      <td>3</td>\n",
       "      <td>Single</td>\n",
       "      <td>9</td>\n",
       "      <td>0</td>\n",
       "      <td>1.0</td>\n",
       "      <td>148.50</td>\n",
       "      <td>0</td>\n",
       "    </tr>\n",
       "    <tr>\n",
       "      <th>253</th>\n",
       "      <td>19.0</td>\n",
       "      <td>6.0</td>\n",
       "      <td>3</td>\n",
       "      <td>Fashion</td>\n",
       "      <td>5</td>\n",
       "      <td>Married</td>\n",
       "      <td>2</td>\n",
       "      <td>0</td>\n",
       "      <td>7.0</td>\n",
       "      <td>204.53</td>\n",
       "      <td>0</td>\n",
       "    </tr>\n",
       "    <tr>\n",
       "      <th>289</th>\n",
       "      <td>16.0</td>\n",
       "      <td>36.0</td>\n",
       "      <td>4</td>\n",
       "      <td>Laptop &amp; Accessory</td>\n",
       "      <td>3</td>\n",
       "      <td>Married</td>\n",
       "      <td>4</td>\n",
       "      <td>0</td>\n",
       "      <td>3.0</td>\n",
       "      <td>170.56</td>\n",
       "      <td>0</td>\n",
       "    </tr>\n",
       "    <tr>\n",
       "      <th>...</th>\n",
       "      <td>...</td>\n",
       "      <td>...</td>\n",
       "      <td>...</td>\n",
       "      <td>...</td>\n",
       "      <td>...</td>\n",
       "      <td>...</td>\n",
       "      <td>...</td>\n",
       "      <td>...</td>\n",
       "      <td>...</td>\n",
       "      <td>...</td>\n",
       "      <td>...</td>\n",
       "    </tr>\n",
       "    <tr>\n",
       "      <th>3930</th>\n",
       "      <td>22.0</td>\n",
       "      <td>17.0</td>\n",
       "      <td>3</td>\n",
       "      <td>Laptop &amp; Accessory</td>\n",
       "      <td>1</td>\n",
       "      <td>Single</td>\n",
       "      <td>4</td>\n",
       "      <td>0</td>\n",
       "      <td>4.0</td>\n",
       "      <td>145.07</td>\n",
       "      <td>0</td>\n",
       "    </tr>\n",
       "    <tr>\n",
       "      <th>3932</th>\n",
       "      <td>20.0</td>\n",
       "      <td>15.0</td>\n",
       "      <td>5</td>\n",
       "      <td>Laptop &amp; Accessory</td>\n",
       "      <td>5</td>\n",
       "      <td>Married</td>\n",
       "      <td>10</td>\n",
       "      <td>1</td>\n",
       "      <td>8.0</td>\n",
       "      <td>171.15</td>\n",
       "      <td>0</td>\n",
       "    </tr>\n",
       "    <tr>\n",
       "      <th>3934</th>\n",
       "      <td>10.0</td>\n",
       "      <td>25.0</td>\n",
       "      <td>3</td>\n",
       "      <td>Laptop &amp; Accessory</td>\n",
       "      <td>3</td>\n",
       "      <td>Married</td>\n",
       "      <td>4</td>\n",
       "      <td>0</td>\n",
       "      <td>2.0</td>\n",
       "      <td>157.68</td>\n",
       "      <td>0</td>\n",
       "    </tr>\n",
       "    <tr>\n",
       "      <th>3938</th>\n",
       "      <td>30.0</td>\n",
       "      <td>6.0</td>\n",
       "      <td>5</td>\n",
       "      <td>Laptop &amp; Accessory</td>\n",
       "      <td>3</td>\n",
       "      <td>Married</td>\n",
       "      <td>3</td>\n",
       "      <td>1</td>\n",
       "      <td>2.0</td>\n",
       "      <td>156.60</td>\n",
       "      <td>0</td>\n",
       "    </tr>\n",
       "    <tr>\n",
       "      <th>3939</th>\n",
       "      <td>6.0</td>\n",
       "      <td>NaN</td>\n",
       "      <td>4</td>\n",
       "      <td>Mobile</td>\n",
       "      <td>3</td>\n",
       "      <td>Married</td>\n",
       "      <td>10</td>\n",
       "      <td>1</td>\n",
       "      <td>0.0</td>\n",
       "      <td>124.37</td>\n",
       "      <td>1</td>\n",
       "    </tr>\n",
       "  </tbody>\n",
       "</table>\n",
       "<p>671 rows × 11 columns</p>\n",
       "</div>"
      ],
      "text/plain": [
       "      Tenure  WarehouseToHome  NumberOfDeviceRegistered    PreferedOrderCat  \\\n",
       "70       1.0             11.0                         4        Mobile Phone   \n",
       "128      1.0             10.0                         4        Mobile Phone   \n",
       "194     18.0             26.0                         3  Laptop & Accessory   \n",
       "253     19.0              6.0                         3             Fashion   \n",
       "289     16.0             36.0                         4  Laptop & Accessory   \n",
       "...      ...              ...                       ...                 ...   \n",
       "3930    22.0             17.0                         3  Laptop & Accessory   \n",
       "3932    20.0             15.0                         5  Laptop & Accessory   \n",
       "3934    10.0             25.0                         3  Laptop & Accessory   \n",
       "3938    30.0              6.0                         5  Laptop & Accessory   \n",
       "3939     6.0              NaN                         4              Mobile   \n",
       "\n",
       "      SatisfactionScore MaritalStatus  NumberOfAddress  Complain  \\\n",
       "70                    5        Single                3         0   \n",
       "128                   1        Single                3         1   \n",
       "194                   3        Single                9         0   \n",
       "253                   5       Married                2         0   \n",
       "289                   3       Married                4         0   \n",
       "...                 ...           ...              ...       ...   \n",
       "3930                  1        Single                4         0   \n",
       "3932                  5       Married               10         1   \n",
       "3934                  3       Married                4         0   \n",
       "3938                  3       Married                3         1   \n",
       "3939                  3       Married               10         1   \n",
       "\n",
       "      DaySinceLastOrder  CashbackAmount  Churn  \n",
       "70                  1.0          154.73      1  \n",
       "128                 1.0          140.69      1  \n",
       "194                 1.0          148.50      0  \n",
       "253                 7.0          204.53      0  \n",
       "289                 3.0          170.56      0  \n",
       "...                 ...             ...    ...  \n",
       "3930                4.0          145.07      0  \n",
       "3932                8.0          171.15      0  \n",
       "3934                2.0          157.68      0  \n",
       "3938                2.0          156.60      0  \n",
       "3939                0.0          124.37      1  \n",
       "\n",
       "[671 rows x 11 columns]"
      ]
     },
     "execution_count": 317,
     "metadata": {},
     "output_type": "execute_result"
    }
   ],
   "source": [
    "data[data.duplicated()]"
   ]
  },
  {
   "attachments": {},
   "cell_type": "markdown",
   "metadata": {},
   "source": [
    "Karena tidak adanya kolom unik yang dapat menjadi identittas maka data yang memiliki nilai sama di setiap kolom dapat disebut duplikat."
   ]
  },
  {
   "cell_type": "code",
   "execution_count": 318,
   "metadata": {},
   "outputs": [
    {
     "data": {
      "text/plain": [
       "0.17026135498604414"
      ]
     },
     "execution_count": 318,
     "metadata": {},
     "output_type": "execute_result"
    }
   ],
   "source": [
    "len(data[data.duplicated()])/len(data)"
   ]
  },
  {
   "attachments": {},
   "cell_type": "markdown",
   "metadata": {},
   "source": [
    "Terdapat 17% data yang teridentifikasi sebagai data duplikat. Jumlah data duplikat yang signifikan ini membuat saya untuk menghapus duplikat tersebut sebelum analisis lebih lanjut. Duplikat dapat menimbulkan bias dalam analisis, karena titik data yang sama dihitung beberapa kali. Ini dapat menyebabkan hasil yang menyesatkan dan kesimpulan yang salah."
   ]
  },
  {
   "cell_type": "code",
   "execution_count": 319,
   "metadata": {},
   "outputs": [
    {
     "data": {
      "text/plain": [
       "0"
      ]
     },
     "execution_count": 319,
     "metadata": {},
     "output_type": "execute_result"
    }
   ],
   "source": [
    "data = data.drop_duplicates()\n",
    "data = data.reset_index(drop=True)\n",
    "data.duplicated().sum()\n"
   ]
  },
  {
   "attachments": {},
   "cell_type": "markdown",
   "metadata": {},
   "source": [
    "<h4>Memeriksa missing value</h4>"
   ]
  },
  {
   "cell_type": "code",
   "execution_count": 320,
   "metadata": {},
   "outputs": [
    {
     "name": "stdout",
     "output_type": "stream",
     "text": [
      "<class 'pandas.core.frame.DataFrame'>\n",
      "RangeIndex: 3270 entries, 0 to 3269\n",
      "Data columns (total 11 columns):\n",
      " #   Column                    Non-Null Count  Dtype  \n",
      "---  ------                    --------------  -----  \n",
      " 0   Tenure                    3110 non-null   float64\n",
      " 1   WarehouseToHome           3135 non-null   float64\n",
      " 2   NumberOfDeviceRegistered  3270 non-null   int64  \n",
      " 3   PreferedOrderCat          3270 non-null   object \n",
      " 4   SatisfactionScore         3270 non-null   int64  \n",
      " 5   MaritalStatus             3270 non-null   object \n",
      " 6   NumberOfAddress           3270 non-null   int64  \n",
      " 7   Complain                  3270 non-null   int64  \n",
      " 8   DaySinceLastOrder         3089 non-null   float64\n",
      " 9   CashbackAmount            3270 non-null   float64\n",
      " 10  Churn                     3270 non-null   int64  \n",
      "dtypes: float64(4), int64(5), object(2)\n",
      "memory usage: 281.1+ KB\n"
     ]
    }
   ],
   "source": [
    "data.info()"
   ]
  },
  {
   "cell_type": "code",
   "execution_count": 321,
   "metadata": {},
   "outputs": [
    {
     "data": {
      "text/plain": [
       "<AxesSubplot:>"
      ]
     },
     "execution_count": 321,
     "metadata": {},
     "output_type": "execute_result"
    },
    {
     "data": {
      "image/png": "[encoded data removed]",
      "text/plain": [
       "<Figure size 2500x1000 with 2 Axes>"
      ]
     },
     "metadata": {},
     "output_type": "display_data"
    }
   ],
   "source": [
    "missingno.matrix(data)"
   ]
  },
  {
   "attachments": {},
   "cell_type": "markdown",
   "metadata": {},
   "source": [
    "Saat memeriksa missing value, terindikasi ada 3 kolom yang memiliki missing value. Tenure, Warehouse To Home dan Days Since Last Order. Langkah berikut akan memeriksa lebih lanjut apa langkah sebaiknya untuk mengatasi missing value tersebut."
   ]
  },
  {
   "attachments": {},
   "cell_type": "markdown",
   "metadata": {},
   "source": [
    "Memeriksa apakah missing value pada ketiga kolom dimiliki oleh baris yang sama, jika terdapat baris seperti kondisi tersebut akan dilakukan drop."
   ]
  },
  {
   "cell_type": "code",
   "execution_count": 322,
   "metadata": {},
   "outputs": [
    {
     "data": {
      "text/plain": [
       "Tenure                      0.0\n",
       "WarehouseToHome             0.0\n",
       "NumberOfDeviceRegistered    0.0\n",
       "PreferedOrderCat            0.0\n",
       "SatisfactionScore           0.0\n",
       "MaritalStatus               0.0\n",
       "NumberOfAddress             0.0\n",
       "Complain                    0.0\n",
       "DaySinceLastOrder           0.0\n",
       "CashbackAmount              0.0\n",
       "Churn                       0.0\n",
       "dtype: float64"
      ]
     },
     "execution_count": 322,
     "metadata": {},
     "output_type": "execute_result"
    }
   ],
   "source": [
    "data[(data['Tenure'].isnull()) & (data['WarehouseToHome'].isnull()) & (data['DaySinceLastOrder'].isnull())].sum()"
   ]
  },
  {
   "attachments": {},
   "cell_type": "markdown",
   "metadata": {},
   "source": [
    "Memeriksa disribusi data pada setiap kolom yang memiliki missing value agar dapat menentukan metode treatment missing value."
   ]
  },
  {
   "cell_type": "code",
   "execution_count": 323,
   "metadata": {},
   "outputs": [
    {
     "data": {
      "text/plain": [
       "(array([1272.,  751.,  495.,  336.,  222.,   30.,    0.,    0.,    2.,\n",
       "           2.]),\n",
       " array([ 0. ,  6.1, 12.2, 18.3, 24.4, 30.5, 36.6, 42.7, 48.8, 54.9, 61. ]),\n",
       " <BarContainer object of 10 artists>)"
      ]
     },
     "execution_count": 323,
     "metadata": {},
     "output_type": "execute_result"
    },
    {
     "data": {
      "image/png": "[encoded data removed]",
      "text/plain": [
       "<Figure size 640x480 with 1 Axes>"
      ]
     },
     "metadata": {},
     "output_type": "display_data"
    }
   ],
   "source": [
    "plt.hist(data['Tenure'].dropna())"
   ]
  },
  {
   "attachments": {},
   "cell_type": "markdown",
   "metadata": {},
   "source": [
    "Terdapat positif skewed distribution terhadap data pada kolom Tenure, dari distribusi ini dapat disimpulkan lebih cocok mengisi data dengan median dibanding mean."
   ]
  },
  {
   "attachments": {},
   "cell_type": "markdown",
   "metadata": {},
   "source": [
    "Memeriksa apakah memungkinkan mengisi missing value menggunakan regression imputation/ menggunakan metode lain yang menggunakan kolom lain untuk mengisi missing value."
   ]
  },
  {
   "cell_type": "code",
   "execution_count": 324,
   "metadata": {},
   "outputs": [
    {
     "data": {
      "text/plain": [
       "<AxesSubplot:>"
      ]
     },
     "execution_count": 324,
     "metadata": {},
     "output_type": "execute_result"
    },
    {
     "data": {
      "image/png": "[encoded data removed]",
      "text/plain": [
       "<Figure size 640x480 with 2 Axes>"
      ]
     },
     "metadata": {},
     "output_type": "display_data"
    }
   ],
   "source": [
    "corr = data.corr()\n",
    "sns.heatmap(corr, annot=True)"
   ]
  },
  {
   "attachments": {},
   "cell_type": "markdown",
   "metadata": {},
   "source": [
    "Tidak ada korelasi yang signifikan terhadap kolom tenure(atau kolom kolom dengan missing value lainnya) untuk memeriksa apakah memungkinkan mengisi missing value menggunakan regression imputation/ menggunakan metode lain yang menggunakan kolom lain untuk mengisi missing value"
   ]
  },
  {
   "attachments": {},
   "cell_type": "markdown",
   "metadata": {},
   "source": [
    "**Tenure**"
   ]
  },
  {
   "cell_type": "code",
   "execution_count": 325,
   "metadata": {},
   "outputs": [],
   "source": [
    "median = data['Tenure'].median()\n",
    "data['Tenure'].fillna(median, inplace=True)\n"
   ]
  },
  {
   "attachments": {},
   "cell_type": "markdown",
   "metadata": {},
   "source": [
    "Setelah mengisi missing value pada kolom Tenure menggunakan median, sekarang akan memeriksa kolom Warehouse to Home"
   ]
  },
  {
   "attachments": {},
   "cell_type": "markdown",
   "metadata": {},
   "source": [
    "**Warehouse to Home**"
   ]
  },
  {
   "cell_type": "code",
   "execution_count": 326,
   "metadata": {},
   "outputs": [
    {
     "data": {
      "text/plain": [
       "Text(0, 0.5, 'Frequency')"
      ]
     },
     "execution_count": 326,
     "metadata": {},
     "output_type": "execute_result"
    },
    {
     "data": {
      "image/png": "[encoded data removed]",
      "text/plain": [
       "<Figure size 640x480 with 1 Axes>"
      ]
     },
     "metadata": {},
     "output_type": "display_data"
    }
   ],
   "source": [
    "data['WarehouseToHome'].plot.box(showfliers=False)\n",
    "plt.title(\"Distribution of Warehouse to Home Delivery Time\")\n",
    "plt.xlabel(\"Delivery Time (days)\")\n",
    "plt.ylabel(\"Frequency\")"
   ]
  },
  {
   "attachments": {},
   "cell_type": "markdown",
   "metadata": {},
   "source": [
    "Distribusi data yang normal akan memiliki boxplot yang berbentuk simetris dengan titik tengah sebagai median dan memiliki persebaran data yang rata-rata. Sementara visualisasi diatas menunjukan terdapat adanya positif skewness."
   ]
  },
  {
   "cell_type": "code",
   "execution_count": 327,
   "metadata": {},
   "outputs": [
    {
     "name": "stdout",
     "output_type": "stream",
     "text": [
      "Tenure                        0\n",
      "WarehouseToHome               0\n",
      "NumberOfDeviceRegistered      0\n",
      "PreferedOrderCat              0\n",
      "SatisfactionScore             0\n",
      "MaritalStatus                 0\n",
      "NumberOfAddress               0\n",
      "Complain                      0\n",
      "DaySinceLastOrder           181\n",
      "CashbackAmount                0\n",
      "Churn                         0\n",
      "dtype: int64\n"
     ]
    }
   ],
   "source": [
    "median = data['WarehouseToHome'].median()\n",
    "data['WarehouseToHome'].fillna(median, inplace=True)\n",
    "print(data.isnull().sum())\n"
   ]
  },
  {
   "attachments": {},
   "cell_type": "markdown",
   "metadata": {},
   "source": [
    "Setelah mengisi missing value pada kolom warehouse to home, kolom terakhir yang masih memiliki missing value adalah Days Since Last Order"
   ]
  },
  {
   "attachments": {},
   "cell_type": "markdown",
   "metadata": {},
   "source": [
    "**Day Since Last Order**"
   ]
  },
  {
   "cell_type": "code",
   "execution_count": 328,
   "metadata": {},
   "outputs": [
    {
     "data": {
      "text/plain": [
       "<AxesSubplot:xlabel='DaySinceLastOrder', ylabel='Count'>"
      ]
     },
     "execution_count": 328,
     "metadata": {},
     "output_type": "execute_result"
    },
    {
     "data": {
      "image/png": "[encoded data removed]",
      "text/plain": [
       "<Figure size 640x480 with 1 Axes>"
      ]
     },
     "metadata": {},
     "output_type": "display_data"
    }
   ],
   "source": [
    "sns.histplot(data['DaySinceLastOrder'], color='red')"
   ]
  },
  {
   "attachments": {},
   "cell_type": "markdown",
   "metadata": {},
   "source": [
    "Data pada kolom day since last order juga tidak terindikasi data yang terdistribusi normal, maka dari itu akan menggunakan median untuk mengisi missing value"
   ]
  },
  {
   "cell_type": "code",
   "execution_count": 329,
   "metadata": {},
   "outputs": [
    {
     "name": "stdout",
     "output_type": "stream",
     "text": [
      "Tenure                      0\n",
      "WarehouseToHome             0\n",
      "NumberOfDeviceRegistered    0\n",
      "PreferedOrderCat            0\n",
      "SatisfactionScore           0\n",
      "MaritalStatus               0\n",
      "NumberOfAddress             0\n",
      "Complain                    0\n",
      "DaySinceLastOrder           0\n",
      "CashbackAmount              0\n",
      "Churn                       0\n",
      "dtype: int64\n"
     ]
    }
   ],
   "source": [
    "median = data['DaySinceLastOrder'].median()\n",
    "data['DaySinceLastOrder'].fillna(median, inplace=True)\n",
    "print(data.isnull().sum())\n"
   ]
  },
  {
   "attachments": {},
   "cell_type": "markdown",
   "metadata": {},
   "source": [
    "## *EXPLORATORY DATA ANALYSIS*"
   ]
  },
  {
   "attachments": {},
   "cell_type": "markdown",
   "metadata": {},
   "source": [
    "Pertama saya akan melihat bagaimana situasi pada kolom kolom yang bukan integer atau float"
   ]
  },
  {
   "cell_type": "code",
   "execution_count": 330,
   "metadata": {},
   "outputs": [
    {
     "data": {
      "image/png": "[encoded data removed]",
      "text/plain": [
       "<Figure size 1000x500 with 1 Axes>"
      ]
     },
     "metadata": {},
     "output_type": "display_data"
    }
   ],
   "source": [
    "plt.figure(figsize=(10,5))\n",
    "sns.countplot(x='PreferedOrderCat', hue='Churn', data=data, palette='husl')\n",
    "churn_counts = data[data['Churn'] == 1].groupby('PreferedOrderCat').size().reset_index(name='churn_count')\n",
    "not_churn_counts = data[data['Churn'] == 0].groupby('PreferedOrderCat').size().reset_index(name='not_churn_count')\n",
    "\n",
    "for i in range(6):\n",
    "    category = churn_counts['PreferedOrderCat'][i]\n",
    "    churn = churn_counts['churn_count'][i]\n",
    "    not_churn = not_churn_counts['not_churn_count'][i]\n",
    "    total = churn + not_churn\n",
    "    percent_churn = (churn / total) * 100\n",
    "    percent_not_churn = (not_churn / total) * 100\n",
    "    plt.text(i, churn + 100, str(round(percent_churn, 2)) + '%', ha='right', color='blue')\n",
    "    plt.text(i, not_churn + 100, str(round(percent_not_churn, 2)) + '%', ha='left', color='black')\n",
    "\n",
    "plt.show()\n"
   ]
  },
  {
   "attachments": {},
   "cell_type": "markdown",
   "metadata": {},
   "source": [
    "Berdasarkan kategori dari Prefered Order Category, terdapat persentase churn lebih tinggi dari lainnya(>10%) pada Laptop & Accessory, Others dan Mobile Phone"
   ]
  },
  {
   "cell_type": "code",
   "execution_count": 331,
   "metadata": {},
   "outputs": [
    {
     "data": {
      "image/png": "[encoded data removed]",
      "text/plain": [
       "<Figure size 1000x500 with 1 Axes>"
      ]
     },
     "metadata": {},
     "output_type": "display_data"
    }
   ],
   "source": [
    "plt.figure(figsize=(10,5))\n",
    "sns.countplot(x='MaritalStatus', hue='Churn', data=data, palette='husl')\n",
    "churn_counts = data[data['Churn'] == 1].groupby('MaritalStatus').size().reset_index(name='churn_count')\n",
    "not_churn_counts = data[data['Churn'] == 0].groupby('MaritalStatus').size().reset_index(name='not_churn_count')\n",
    "\n",
    "for i in range(3):\n",
    "    category = churn_counts['MaritalStatus'][i]\n",
    "    churn = churn_counts['churn_count'][i]\n",
    "    not_churn = not_churn_counts['not_churn_count'][i]\n",
    "    total = churn + not_churn\n",
    "    percent_churn = (churn / total) * 100\n",
    "    percent_not_churn = (not_churn / total) * 100\n",
    "    plt.text(i, churn + 100, str(round(percent_churn, 2)) + '%', ha='center', color='blue')\n",
    "    plt.text(i, not_churn + 100, str(round(percent_not_churn, 2)) + '%', ha='center', color='black')\n",
    "\n",
    "plt.show()"
   ]
  },
  {
   "attachments": {},
   "cell_type": "markdown",
   "metadata": {},
   "source": [
    "Berdasarkan kategori dari Marital Status, terdapat persentase churn tertinggi pada kategori Divorced"
   ]
  },
  {
   "attachments": {},
   "cell_type": "markdown",
   "metadata": {},
   "source": [
    "Selanjutnya saya akan memeriksa outlier pada setiap kolom dan memutuskan treatment apa yang akan dilakukan pada data tersebut."
   ]
  },
  {
   "cell_type": "code",
   "execution_count": 332,
   "metadata": {},
   "outputs": [
    {
     "data": {
      "image/png": "[encoded data removed]",
      "text/plain": [
       "<Figure size 640x480 with 1 Axes>"
      ]
     },
     "metadata": {},
     "output_type": "display_data"
    },
    {
     "data": {
      "image/png": "[encoded data removed]",
      "text/plain": [
       "<Figure size 640x480 with 1 Axes>"
      ]
     },
     "metadata": {},
     "output_type": "display_data"
    },
    {
     "data": {
      "image/png": "[encoded data removed]",
      "text/plain": [
       "<Figure size 640x480 with 1 Axes>"
      ]
     },
     "metadata": {},
     "output_type": "display_data"
    },
    {
     "data": {
      "image/png": "[encoded data removed]",
      "text/plain": [
       "<Figure size 640x480 with 1 Axes>"
      ]
     },
     "metadata": {},
     "output_type": "display_data"
    },
    {
     "data": {
      "image/png": "[encoded data removed]",
      "text/plain": [
       "<Figure size 640x480 with 1 Axes>"
      ]
     },
     "metadata": {},
     "output_type": "display_data"
    },
    {
     "data": {
      "image/png": "[encoded data removed]",
      "text/plain": [
       "<Figure size 640x480 with 1 Axes>"
      ]
     },
     "metadata": {},
     "output_type": "display_data"
    },
    {
     "data": {
      "image/png": "[encoded data removed]",
      "text/plain": [
       "<Figure size 640x480 with 1 Axes>"
      ]
     },
     "metadata": {},
     "output_type": "display_data"
    }
   ],
   "source": [
    "numerical_cols = ['Tenure', 'WarehouseToHome', 'NumberOfDeviceRegistered', 'SatisfactionScore',\n",
    "       'NumberOfAddress', 'DaySinceLastOrder', 'CashbackAmount']\n",
    "for col in numerical_cols:\n",
    "    plt.figure()\n",
    "    sns.boxplot(x=data[col])\n",
    "    plt.title(col)\n",
    "    plt.show()\n"
   ]
  },
  {
   "cell_type": "code",
   "execution_count": 333,
   "metadata": {},
   "outputs": [
    {
     "name": "stdout",
     "output_type": "stream",
     "text": [
      "Column: Tenure, Outliers: 4\n",
      "Column: WarehouseToHome, Outliers: 1\n",
      "Column: NumberOfDeviceRegistered, Outliers: 226\n",
      "Column: SatisfactionScore, Outliers: 0\n",
      "Column: NumberOfAddress, Outliers: 3\n",
      "Column: Complain, Outliers: 0\n",
      "Column: DaySinceLastOrder, Outliers: 40\n",
      "Column: CashbackAmount, Outliers: 253\n",
      "Column: Churn, Outliers: 534\n"
     ]
    }
   ],
   "source": [
    "def detect_outliers(df):\n",
    "    outliers = {}\n",
    "    for col in df.columns:\n",
    "        if df[col].dtype in ['int64', 'float64']:\n",
    "            Q1 = df[col].quantile(0.25)\n",
    "            Q3 = df[col].quantile(0.75)\n",
    "            IQR = Q3 - Q1\n",
    "            lower_bound = Q1 - 1.5 * IQR\n",
    "            upper_bound = Q3 + 1.5 * IQR\n",
    "            outliers[col] = len(df[(df[col] < lower_bound) | (df[col] > upper_bound)])\n",
    "    return outliers\n",
    "outliers = detect_outliers(data)\n",
    "for col, count in outliers.items():\n",
    "    print(f\"Column: {col}, Outliers: {count}\")"
   ]
  },
  {
   "attachments": {},
   "cell_type": "markdown",
   "metadata": {},
   "source": [
    "Pada temuan diatas, kita dapat mengidentifikasi bahwa jumlah data outlier yang signifikan berada pada kolom Number of Device, dan Cashback Amount (Churn tidak termasuk karena merupakan variabel dependen dan hanya berisi 2 unique value).  \n",
    "\n",
    "Namun pada kolom Number of Device, Number of Address dapat diasumsikan diluar dari definisi outlier karena bukan merupakan data numerikal yang continous(diskrit)."
   ]
  },
  {
   "attachments": {},
   "cell_type": "markdown",
   "metadata": {},
   "source": [
    "Saya akan memeriksa apakah data outlier pada colom Cashback Amount memiliki porsi churn dan tidak churn yang sama dengan keseluruhan data."
   ]
  },
  {
   "cell_type": "code",
   "execution_count": 334,
   "metadata": {},
   "outputs": [
    {
     "data": {
      "text/plain": [
       "0.045081967213114756"
      ]
     },
     "execution_count": 334,
     "metadata": {},
     "output_type": "execute_result"
    }
   ],
   "source": [
    "cashback_amount = data['CashbackAmount']\n",
    "Q1 = np.percentile(cashback_amount, 25)\n",
    "Q3 = np.percentile(cashback_amount, 75)\n",
    "IQR = Q3 - Q1\n",
    "outlier_threshold = Q3 + 1.5 * IQR\n",
    "outlier_indexes = cashback_amount[(cashback_amount > outlier_threshold)].index\n",
    "churned_outliers = data.loc[outlier_indexes, 'Churn']\n",
    "churn_ratio_outliers = churned_outliers.mean()\n",
    "churn_ratio_outliers\n"
   ]
  },
  {
   "cell_type": "code",
   "execution_count": 335,
   "metadata": {},
   "outputs": [
    {
     "data": {
      "text/plain": [
       "0    0.836697\n",
       "1    0.163303\n",
       "Name: Churn, dtype: float64"
      ]
     },
     "execution_count": 335,
     "metadata": {},
     "output_type": "execute_result"
    }
   ],
   "source": [
    "data['Churn'].value_counts()/len(data)"
   ]
  },
  {
   "attachments": {},
   "cell_type": "markdown",
   "metadata": {},
   "source": [
    "Perbedaan proporsi jumlah churn dan tidak pada data outlier di kolom cashback amount menunjukan bahwa saya tidak dapat menghilangkan data tersebut begitu saja, karena akan mengubah proporsi jumlah data yang akan ditrain oleh machine learning."
   ]
  },
  {
   "attachments": {},
   "cell_type": "markdown",
   "metadata": {},
   "source": [
    "Dari hasil temuan jumlah data outlier dan proporsi nilai churn, penulis memutuskan untuk tidak melakukan treatment apapun terhadap outlier."
   ]
  },
  {
   "attachments": {},
   "cell_type": "markdown",
   "metadata": {},
   "source": [
    "## *FEATURE ENGINEERING*"
   ]
  },
  {
   "cell_type": "code",
   "execution_count": 336,
   "metadata": {},
   "outputs": [
    {
     "data": {
      "text/html": [
       "<div>\n",
       "<style scoped>\n",
       "    .dataframe tbody tr th:only-of-type {\n",
       "        vertical-align: middle;\n",
       "    }\n",
       "\n",
       "    .dataframe tbody tr th {\n",
       "        vertical-align: top;\n",
       "    }\n",
       "\n",
       "    .dataframe thead th {\n",
       "        text-align: right;\n",
       "    }\n",
       "</style>\n",
       "<table border=\"1\" class=\"dataframe\">\n",
       "  <thead>\n",
       "    <tr style=\"text-align: right;\">\n",
       "      <th></th>\n",
       "      <th>Tenure</th>\n",
       "      <th>WarehouseToHome</th>\n",
       "      <th>NumberOfDeviceRegistered</th>\n",
       "      <th>SatisfactionScore</th>\n",
       "      <th>NumberOfAddress</th>\n",
       "      <th>DaySinceLastOrder</th>\n",
       "      <th>CashbackAmount</th>\n",
       "    </tr>\n",
       "  </thead>\n",
       "  <tbody>\n",
       "    <tr>\n",
       "      <th>count</th>\n",
       "      <td>3270.000000</td>\n",
       "      <td>3270.000000</td>\n",
       "      <td>3270.000000</td>\n",
       "      <td>3270.000000</td>\n",
       "      <td>3270.000000</td>\n",
       "      <td>3270.000000</td>\n",
       "      <td>3270.000000</td>\n",
       "    </tr>\n",
       "    <tr>\n",
       "      <th>mean</th>\n",
       "      <td>10.132110</td>\n",
       "      <td>15.406728</td>\n",
       "      <td>3.676453</td>\n",
       "      <td>3.020795</td>\n",
       "      <td>4.222936</td>\n",
       "      <td>4.459939</td>\n",
       "      <td>177.417670</td>\n",
       "    </tr>\n",
       "    <tr>\n",
       "      <th>std</th>\n",
       "      <td>8.440368</td>\n",
       "      <td>8.404449</td>\n",
       "      <td>1.017390</td>\n",
       "      <td>1.395113</td>\n",
       "      <td>2.623195</td>\n",
       "      <td>3.609590</td>\n",
       "      <td>49.310647</td>\n",
       "    </tr>\n",
       "    <tr>\n",
       "      <th>min</th>\n",
       "      <td>0.000000</td>\n",
       "      <td>5.000000</td>\n",
       "      <td>1.000000</td>\n",
       "      <td>1.000000</td>\n",
       "      <td>1.000000</td>\n",
       "      <td>0.000000</td>\n",
       "      <td>0.000000</td>\n",
       "    </tr>\n",
       "    <tr>\n",
       "      <th>25%</th>\n",
       "      <td>3.000000</td>\n",
       "      <td>9.000000</td>\n",
       "      <td>3.000000</td>\n",
       "      <td>2.000000</td>\n",
       "      <td>2.000000</td>\n",
       "      <td>2.000000</td>\n",
       "      <td>145.892500</td>\n",
       "    </tr>\n",
       "    <tr>\n",
       "      <th>50%</th>\n",
       "      <td>9.000000</td>\n",
       "      <td>13.000000</td>\n",
       "      <td>4.000000</td>\n",
       "      <td>3.000000</td>\n",
       "      <td>3.000000</td>\n",
       "      <td>3.000000</td>\n",
       "      <td>163.885000</td>\n",
       "    </tr>\n",
       "    <tr>\n",
       "      <th>75%</th>\n",
       "      <td>15.000000</td>\n",
       "      <td>20.000000</td>\n",
       "      <td>4.000000</td>\n",
       "      <td>4.000000</td>\n",
       "      <td>6.000000</td>\n",
       "      <td>7.000000</td>\n",
       "      <td>197.137500</td>\n",
       "    </tr>\n",
       "    <tr>\n",
       "      <th>max</th>\n",
       "      <td>61.000000</td>\n",
       "      <td>127.000000</td>\n",
       "      <td>6.000000</td>\n",
       "      <td>5.000000</td>\n",
       "      <td>22.000000</td>\n",
       "      <td>46.000000</td>\n",
       "      <td>324.990000</td>\n",
       "    </tr>\n",
       "  </tbody>\n",
       "</table>\n",
       "</div>"
      ],
      "text/plain": [
       "            Tenure  WarehouseToHome  NumberOfDeviceRegistered  \\\n",
       "count  3270.000000      3270.000000               3270.000000   \n",
       "mean     10.132110        15.406728                  3.676453   \n",
       "std       8.440368         8.404449                  1.017390   \n",
       "min       0.000000         5.000000                  1.000000   \n",
       "25%       3.000000         9.000000                  3.000000   \n",
       "50%       9.000000        13.000000                  4.000000   \n",
       "75%      15.000000        20.000000                  4.000000   \n",
       "max      61.000000       127.000000                  6.000000   \n",
       "\n",
       "       SatisfactionScore  NumberOfAddress  DaySinceLastOrder  CashbackAmount  \n",
       "count        3270.000000      3270.000000        3270.000000     3270.000000  \n",
       "mean            3.020795         4.222936           4.459939      177.417670  \n",
       "std             1.395113         2.623195           3.609590       49.310647  \n",
       "min             1.000000         1.000000           0.000000        0.000000  \n",
       "25%             2.000000         2.000000           2.000000      145.892500  \n",
       "50%             3.000000         3.000000           3.000000      163.885000  \n",
       "75%             4.000000         6.000000           7.000000      197.137500  \n",
       "max             5.000000        22.000000          46.000000      324.990000  "
      ]
     },
     "execution_count": 336,
     "metadata": {},
     "output_type": "execute_result"
    }
   ],
   "source": [
    "data[numerical_cols].describe()"
   ]
  },
  {
   "attachments": {},
   "cell_type": "markdown",
   "metadata": {},
   "source": [
    "1. MaritalStatus = Akan diubah menggunakan One Hot Encoding karena memiliki data unik yang sedikit.\n",
    "2. PreferedOrderCat = Akan diubah menggunakan Binary Encoding karna tidak memiliki tingkatan dalam setiap kategorinya.</br>\n",
    "\n",
    "\n",
    "(Domain Knowledge)</br>\n",
    "3. SatisfactionScore = Tidak perlu diubah menggunakan Ordinal Encoding dikarenakan sudah dalam bentuk integer dan memiliki nilai korelasi negatif terhadap churn.</br>\n",
    "4. NumberOfAddress = Tidak perlu diubah menggunakan Ordinal Encoding dikarenakan sudah dalam bentuk integer dan memiliki nilai korelasi negatif terhadap churn.</br>\n",
    "5. NumberOfDeviceRegistered = Tidak perlu diubah menggunakan Ordinal Encoding dikarenakan sudah dalam bentuk integer dan memiliki nilai korelasi negatif terhadap churn.</br>\n",
    "<br>\n",
    "6. DaySinceLastOrder = Akan diubah menggunakan menggunakan binning menjadi kategori kelas biner dengan batasan dibawah 1 bulan dan diatas 1 bulan(referensi waktu menggunakan kolom complain).  \n",
    "<br>\n",
    "7. Complain = Tidak akan di-encode dikarenakan memiliki nilai numerik namun merepresentasikan kelas biner (2 kelas).\n",
    "\n",
    "*Lalu pada kolom numerik kontinu tidak akan dilakukan scaling*\n",
    "\n",
    "8. Tenure = Tenure of customer in organization.\n",
    "9. WarehouseToHome = Distance in between warehouse to home of customer.\n",
    "10. CashbackAmount = Average cashback in last month.\n"
   ]
  },
  {
   "attachments": {},
   "cell_type": "markdown",
   "metadata": {},
   "source": [
    "Melakukan binning pada kolom Number of Address dan Day Since Last Order."
   ]
  },
  {
   "cell_type": "code",
   "execution_count": 337,
   "metadata": {},
   "outputs": [
    {
     "data": {
      "text/html": [
       "<div>\n",
       "<style scoped>\n",
       "    .dataframe tbody tr th:only-of-type {\n",
       "        vertical-align: middle;\n",
       "    }\n",
       "\n",
       "    .dataframe tbody tr th {\n",
       "        vertical-align: top;\n",
       "    }\n",
       "\n",
       "    .dataframe thead th {\n",
       "        text-align: right;\n",
       "    }\n",
       "</style>\n",
       "<table border=\"1\" class=\"dataframe\">\n",
       "  <thead>\n",
       "    <tr style=\"text-align: right;\">\n",
       "      <th></th>\n",
       "      <th>Tenure</th>\n",
       "      <th>WarehouseToHome</th>\n",
       "      <th>NumberOfDeviceRegistered</th>\n",
       "      <th>PreferedOrderCat</th>\n",
       "      <th>SatisfactionScore</th>\n",
       "      <th>MaritalStatus</th>\n",
       "      <th>NumberOfAddress</th>\n",
       "      <th>Complain</th>\n",
       "      <th>DaySinceLastOrder</th>\n",
       "      <th>CashbackAmount</th>\n",
       "      <th>Churn</th>\n",
       "    </tr>\n",
       "  </thead>\n",
       "  <tbody>\n",
       "    <tr>\n",
       "      <th>0</th>\n",
       "      <td>15.0</td>\n",
       "      <td>29.0</td>\n",
       "      <td>4</td>\n",
       "      <td>Laptop &amp; Accessory</td>\n",
       "      <td>3</td>\n",
       "      <td>Single</td>\n",
       "      <td>2</td>\n",
       "      <td>0</td>\n",
       "      <td>1</td>\n",
       "      <td>143.32</td>\n",
       "      <td>0</td>\n",
       "    </tr>\n",
       "    <tr>\n",
       "      <th>1</th>\n",
       "      <td>7.0</td>\n",
       "      <td>25.0</td>\n",
       "      <td>4</td>\n",
       "      <td>Mobile</td>\n",
       "      <td>1</td>\n",
       "      <td>Married</td>\n",
       "      <td>2</td>\n",
       "      <td>0</td>\n",
       "      <td>1</td>\n",
       "      <td>129.29</td>\n",
       "      <td>0</td>\n",
       "    </tr>\n",
       "    <tr>\n",
       "      <th>2</th>\n",
       "      <td>27.0</td>\n",
       "      <td>13.0</td>\n",
       "      <td>3</td>\n",
       "      <td>Laptop &amp; Accessory</td>\n",
       "      <td>1</td>\n",
       "      <td>Married</td>\n",
       "      <td>5</td>\n",
       "      <td>0</td>\n",
       "      <td>1</td>\n",
       "      <td>168.54</td>\n",
       "      <td>0</td>\n",
       "    </tr>\n",
       "    <tr>\n",
       "      <th>3</th>\n",
       "      <td>20.0</td>\n",
       "      <td>25.0</td>\n",
       "      <td>4</td>\n",
       "      <td>Fashion</td>\n",
       "      <td>3</td>\n",
       "      <td>Divorced</td>\n",
       "      <td>7</td>\n",
       "      <td>0</td>\n",
       "      <td>1</td>\n",
       "      <td>230.27</td>\n",
       "      <td>0</td>\n",
       "    </tr>\n",
       "    <tr>\n",
       "      <th>4</th>\n",
       "      <td>30.0</td>\n",
       "      <td>15.0</td>\n",
       "      <td>4</td>\n",
       "      <td>Others</td>\n",
       "      <td>4</td>\n",
       "      <td>Single</td>\n",
       "      <td>8</td>\n",
       "      <td>0</td>\n",
       "      <td>1</td>\n",
       "      <td>322.17</td>\n",
       "      <td>0</td>\n",
       "    </tr>\n",
       "    <tr>\n",
       "      <th>...</th>\n",
       "      <td>...</td>\n",
       "      <td>...</td>\n",
       "      <td>...</td>\n",
       "      <td>...</td>\n",
       "      <td>...</td>\n",
       "      <td>...</td>\n",
       "      <td>...</td>\n",
       "      <td>...</td>\n",
       "      <td>...</td>\n",
       "      <td>...</td>\n",
       "      <td>...</td>\n",
       "    </tr>\n",
       "    <tr>\n",
       "      <th>3265</th>\n",
       "      <td>25.0</td>\n",
       "      <td>15.0</td>\n",
       "      <td>5</td>\n",
       "      <td>Fashion</td>\n",
       "      <td>4</td>\n",
       "      <td>Married</td>\n",
       "      <td>7</td>\n",
       "      <td>0</td>\n",
       "      <td>1</td>\n",
       "      <td>249.90</td>\n",
       "      <td>0</td>\n",
       "    </tr>\n",
       "    <tr>\n",
       "      <th>3266</th>\n",
       "      <td>26.0</td>\n",
       "      <td>7.0</td>\n",
       "      <td>4</td>\n",
       "      <td>Grocery</td>\n",
       "      <td>1</td>\n",
       "      <td>Married</td>\n",
       "      <td>4</td>\n",
       "      <td>0</td>\n",
       "      <td>1</td>\n",
       "      <td>295.99</td>\n",
       "      <td>0</td>\n",
       "    </tr>\n",
       "    <tr>\n",
       "      <th>3267</th>\n",
       "      <td>28.0</td>\n",
       "      <td>9.0</td>\n",
       "      <td>5</td>\n",
       "      <td>Fashion</td>\n",
       "      <td>3</td>\n",
       "      <td>Married</td>\n",
       "      <td>8</td>\n",
       "      <td>0</td>\n",
       "      <td>1</td>\n",
       "      <td>231.86</td>\n",
       "      <td>0</td>\n",
       "    </tr>\n",
       "    <tr>\n",
       "      <th>3268</th>\n",
       "      <td>8.0</td>\n",
       "      <td>7.0</td>\n",
       "      <td>2</td>\n",
       "      <td>Mobile Phone</td>\n",
       "      <td>2</td>\n",
       "      <td>Single</td>\n",
       "      <td>4</td>\n",
       "      <td>0</td>\n",
       "      <td>1</td>\n",
       "      <td>157.80</td>\n",
       "      <td>0</td>\n",
       "    </tr>\n",
       "    <tr>\n",
       "      <th>3269</th>\n",
       "      <td>2.0</td>\n",
       "      <td>7.0</td>\n",
       "      <td>3</td>\n",
       "      <td>Laptop &amp; Accessory</td>\n",
       "      <td>5</td>\n",
       "      <td>Married</td>\n",
       "      <td>1</td>\n",
       "      <td>0</td>\n",
       "      <td>1</td>\n",
       "      <td>153.73</td>\n",
       "      <td>0</td>\n",
       "    </tr>\n",
       "  </tbody>\n",
       "</table>\n",
       "<p>3270 rows × 11 columns</p>\n",
       "</div>"
      ],
      "text/plain": [
       "      Tenure  WarehouseToHome  NumberOfDeviceRegistered    PreferedOrderCat  \\\n",
       "0       15.0             29.0                         4  Laptop & Accessory   \n",
       "1        7.0             25.0                         4              Mobile   \n",
       "2       27.0             13.0                         3  Laptop & Accessory   \n",
       "3       20.0             25.0                         4             Fashion   \n",
       "4       30.0             15.0                         4              Others   \n",
       "...      ...              ...                       ...                 ...   \n",
       "3265    25.0             15.0                         5             Fashion   \n",
       "3266    26.0              7.0                         4             Grocery   \n",
       "3267    28.0              9.0                         5             Fashion   \n",
       "3268     8.0              7.0                         2        Mobile Phone   \n",
       "3269     2.0              7.0                         3  Laptop & Accessory   \n",
       "\n",
       "      SatisfactionScore MaritalStatus  NumberOfAddress  Complain  \\\n",
       "0                     3        Single                2         0   \n",
       "1                     1       Married                2         0   \n",
       "2                     1       Married                5         0   \n",
       "3                     3      Divorced                7         0   \n",
       "4                     4        Single                8         0   \n",
       "...                 ...           ...              ...       ...   \n",
       "3265                  4       Married                7         0   \n",
       "3266                  1       Married                4         0   \n",
       "3267                  3       Married                8         0   \n",
       "3268                  2        Single                4         0   \n",
       "3269                  5       Married                1         0   \n",
       "\n",
       "     DaySinceLastOrder  CashbackAmount  Churn  \n",
       "0                    1          143.32      0  \n",
       "1                    1          129.29      0  \n",
       "2                    1          168.54      0  \n",
       "3                    1          230.27      0  \n",
       "4                    1          322.17      0  \n",
       "...                ...             ...    ...  \n",
       "3265                 1          249.90      0  \n",
       "3266                 1          295.99      0  \n",
       "3267                 1          231.86      0  \n",
       "3268                 1          157.80      0  \n",
       "3269                 1          153.73      0  \n",
       "\n",
       "[3270 rows x 11 columns]"
      ]
     },
     "execution_count": 337,
     "metadata": {},
     "output_type": "execute_result"
    }
   ],
   "source": [
    "bin = []\n",
    "for i in data['DaySinceLastOrder']:\n",
    "    if i < 30:\n",
    "        bin.append('1')\n",
    "    else:\n",
    "        bin.append('0')\n",
    "data['DaySinceLastOrder'] = bin\n",
    "data"
   ]
  },
  {
   "attachments": {},
   "cell_type": "markdown",
   "metadata": {},
   "source": [
    "Disini dilakukan binning pada kolom Day Since Last Order untuk memisahkan mana customer yang membeli dalam 1 bulan terakhir dan mana yang tidak."
   ]
  },
  {
   "cell_type": "code",
   "execution_count": 338,
   "metadata": {},
   "outputs": [
    {
     "data": {
      "text/html": [
       "<div>\n",
       "<style scoped>\n",
       "    .dataframe tbody tr th:only-of-type {\n",
       "        vertical-align: middle;\n",
       "    }\n",
       "\n",
       "    .dataframe tbody tr th {\n",
       "        vertical-align: top;\n",
       "    }\n",
       "\n",
       "    .dataframe thead th {\n",
       "        text-align: right;\n",
       "    }\n",
       "</style>\n",
       "<table border=\"1\" class=\"dataframe\">\n",
       "  <thead>\n",
       "    <tr style=\"text-align: right;\">\n",
       "      <th></th>\n",
       "      <th>Tenure</th>\n",
       "      <th>WarehouseToHome</th>\n",
       "      <th>NumberOfDeviceRegistered</th>\n",
       "      <th>PreferedOrderCat</th>\n",
       "      <th>SatisfactionScore</th>\n",
       "      <th>MaritalStatus</th>\n",
       "      <th>NumberOfAddress</th>\n",
       "      <th>Complain</th>\n",
       "      <th>DaySinceLastOrder</th>\n",
       "      <th>CashbackAmount</th>\n",
       "      <th>Churn</th>\n",
       "    </tr>\n",
       "  </thead>\n",
       "  <tbody>\n",
       "    <tr>\n",
       "      <th>0</th>\n",
       "      <td>15.0</td>\n",
       "      <td>29.0</td>\n",
       "      <td>4</td>\n",
       "      <td>Laptop &amp; Accessory</td>\n",
       "      <td>3</td>\n",
       "      <td>Single</td>\n",
       "      <td>1</td>\n",
       "      <td>0</td>\n",
       "      <td>1</td>\n",
       "      <td>143.32</td>\n",
       "      <td>0</td>\n",
       "    </tr>\n",
       "    <tr>\n",
       "      <th>1</th>\n",
       "      <td>7.0</td>\n",
       "      <td>25.0</td>\n",
       "      <td>4</td>\n",
       "      <td>Mobile</td>\n",
       "      <td>1</td>\n",
       "      <td>Married</td>\n",
       "      <td>1</td>\n",
       "      <td>0</td>\n",
       "      <td>1</td>\n",
       "      <td>129.29</td>\n",
       "      <td>0</td>\n",
       "    </tr>\n",
       "    <tr>\n",
       "      <th>2</th>\n",
       "      <td>27.0</td>\n",
       "      <td>13.0</td>\n",
       "      <td>3</td>\n",
       "      <td>Laptop &amp; Accessory</td>\n",
       "      <td>1</td>\n",
       "      <td>Married</td>\n",
       "      <td>1</td>\n",
       "      <td>0</td>\n",
       "      <td>1</td>\n",
       "      <td>168.54</td>\n",
       "      <td>0</td>\n",
       "    </tr>\n",
       "    <tr>\n",
       "      <th>3</th>\n",
       "      <td>20.0</td>\n",
       "      <td>25.0</td>\n",
       "      <td>4</td>\n",
       "      <td>Fashion</td>\n",
       "      <td>3</td>\n",
       "      <td>Divorced</td>\n",
       "      <td>1</td>\n",
       "      <td>0</td>\n",
       "      <td>1</td>\n",
       "      <td>230.27</td>\n",
       "      <td>0</td>\n",
       "    </tr>\n",
       "    <tr>\n",
       "      <th>4</th>\n",
       "      <td>30.0</td>\n",
       "      <td>15.0</td>\n",
       "      <td>4</td>\n",
       "      <td>Others</td>\n",
       "      <td>4</td>\n",
       "      <td>Single</td>\n",
       "      <td>1</td>\n",
       "      <td>0</td>\n",
       "      <td>1</td>\n",
       "      <td>322.17</td>\n",
       "      <td>0</td>\n",
       "    </tr>\n",
       "    <tr>\n",
       "      <th>...</th>\n",
       "      <td>...</td>\n",
       "      <td>...</td>\n",
       "      <td>...</td>\n",
       "      <td>...</td>\n",
       "      <td>...</td>\n",
       "      <td>...</td>\n",
       "      <td>...</td>\n",
       "      <td>...</td>\n",
       "      <td>...</td>\n",
       "      <td>...</td>\n",
       "      <td>...</td>\n",
       "    </tr>\n",
       "    <tr>\n",
       "      <th>3265</th>\n",
       "      <td>25.0</td>\n",
       "      <td>15.0</td>\n",
       "      <td>5</td>\n",
       "      <td>Fashion</td>\n",
       "      <td>4</td>\n",
       "      <td>Married</td>\n",
       "      <td>1</td>\n",
       "      <td>0</td>\n",
       "      <td>1</td>\n",
       "      <td>249.90</td>\n",
       "      <td>0</td>\n",
       "    </tr>\n",
       "    <tr>\n",
       "      <th>3266</th>\n",
       "      <td>26.0</td>\n",
       "      <td>7.0</td>\n",
       "      <td>4</td>\n",
       "      <td>Grocery</td>\n",
       "      <td>1</td>\n",
       "      <td>Married</td>\n",
       "      <td>1</td>\n",
       "      <td>0</td>\n",
       "      <td>1</td>\n",
       "      <td>295.99</td>\n",
       "      <td>0</td>\n",
       "    </tr>\n",
       "    <tr>\n",
       "      <th>3267</th>\n",
       "      <td>28.0</td>\n",
       "      <td>9.0</td>\n",
       "      <td>5</td>\n",
       "      <td>Fashion</td>\n",
       "      <td>3</td>\n",
       "      <td>Married</td>\n",
       "      <td>1</td>\n",
       "      <td>0</td>\n",
       "      <td>1</td>\n",
       "      <td>231.86</td>\n",
       "      <td>0</td>\n",
       "    </tr>\n",
       "    <tr>\n",
       "      <th>3268</th>\n",
       "      <td>8.0</td>\n",
       "      <td>7.0</td>\n",
       "      <td>2</td>\n",
       "      <td>Mobile Phone</td>\n",
       "      <td>2</td>\n",
       "      <td>Single</td>\n",
       "      <td>1</td>\n",
       "      <td>0</td>\n",
       "      <td>1</td>\n",
       "      <td>157.80</td>\n",
       "      <td>0</td>\n",
       "    </tr>\n",
       "    <tr>\n",
       "      <th>3269</th>\n",
       "      <td>2.0</td>\n",
       "      <td>7.0</td>\n",
       "      <td>3</td>\n",
       "      <td>Laptop &amp; Accessory</td>\n",
       "      <td>5</td>\n",
       "      <td>Married</td>\n",
       "      <td>1</td>\n",
       "      <td>0</td>\n",
       "      <td>1</td>\n",
       "      <td>153.73</td>\n",
       "      <td>0</td>\n",
       "    </tr>\n",
       "  </tbody>\n",
       "</table>\n",
       "<p>3270 rows × 11 columns</p>\n",
       "</div>"
      ],
      "text/plain": [
       "      Tenure  WarehouseToHome  NumberOfDeviceRegistered    PreferedOrderCat  \\\n",
       "0       15.0             29.0                         4  Laptop & Accessory   \n",
       "1        7.0             25.0                         4              Mobile   \n",
       "2       27.0             13.0                         3  Laptop & Accessory   \n",
       "3       20.0             25.0                         4             Fashion   \n",
       "4       30.0             15.0                         4              Others   \n",
       "...      ...              ...                       ...                 ...   \n",
       "3265    25.0             15.0                         5             Fashion   \n",
       "3266    26.0              7.0                         4             Grocery   \n",
       "3267    28.0              9.0                         5             Fashion   \n",
       "3268     8.0              7.0                         2        Mobile Phone   \n",
       "3269     2.0              7.0                         3  Laptop & Accessory   \n",
       "\n",
       "      SatisfactionScore MaritalStatus NumberOfAddress  Complain  \\\n",
       "0                     3        Single               1         0   \n",
       "1                     1       Married               1         0   \n",
       "2                     1       Married               1         0   \n",
       "3                     3      Divorced               1         0   \n",
       "4                     4        Single               1         0   \n",
       "...                 ...           ...             ...       ...   \n",
       "3265                  4       Married               1         0   \n",
       "3266                  1       Married               1         0   \n",
       "3267                  3       Married               1         0   \n",
       "3268                  2        Single               1         0   \n",
       "3269                  5       Married               1         0   \n",
       "\n",
       "     DaySinceLastOrder  CashbackAmount  Churn  \n",
       "0                    1          143.32      0  \n",
       "1                    1          129.29      0  \n",
       "2                    1          168.54      0  \n",
       "3                    1          230.27      0  \n",
       "4                    1          322.17      0  \n",
       "...                ...             ...    ...  \n",
       "3265                 1          249.90      0  \n",
       "3266                 1          295.99      0  \n",
       "3267                 1          231.86      0  \n",
       "3268                 1          157.80      0  \n",
       "3269                 1          153.73      0  \n",
       "\n",
       "[3270 rows x 11 columns]"
      ]
     },
     "execution_count": 338,
     "metadata": {},
     "output_type": "execute_result"
    }
   ],
   "source": [
    "bin = []\n",
    "for i in data['NumberOfAddress']:\n",
    "    if i <= 8:\n",
    "        bin.append('1')\n",
    "    elif 9 <= i < 16 :\n",
    "        bin.append('2')\n",
    "    else:\n",
    "        bin.append('3')\n",
    "data['NumberOfAddress'] = bin\n",
    "data"
   ]
  },
  {
   "attachments": {},
   "cell_type": "markdown",
   "metadata": {},
   "source": [
    "Lalu pada kolom Number Of Address dibagi menjadi 3 kelompok dengan interval yang sama"
   ]
  },
  {
   "attachments": {},
   "cell_type": "markdown",
   "metadata": {},
   "source": [
    "Semua kolom kategorikal dan numerik diskrit siap untuk diencode"
   ]
  },
  {
   "attachments": {},
   "cell_type": "markdown",
   "metadata": {},
   "source": [
    "**Transformer**"
   ]
  },
  {
   "cell_type": "code",
   "execution_count": 339,
   "metadata": {},
   "outputs": [],
   "source": [
    "transformer = ColumnTransformer([\n",
    "    ('onehot', OneHotEncoder(drop='first'), ['MaritalStatus']),\n",
    "    ('binary', ce.BinaryEncoder(), ['PreferedOrderCat'])\n",
    "], remainder='passthrough')"
   ]
  },
  {
   "attachments": {},
   "cell_type": "markdown",
   "metadata": {},
   "source": [
    "**Imbalance Treatment**"
   ]
  },
  {
   "cell_type": "code",
   "execution_count": 340,
   "metadata": {},
   "outputs": [
    {
     "data": {
      "text/plain": [
       "<AxesSubplot:ylabel='Tenure'>"
      ]
     },
     "execution_count": 340,
     "metadata": {},
     "output_type": "execute_result"
    },
    {
     "data": {
      "image/png": "[encoded data removed]",
      "text/plain": [
       "<Figure size 640x480 with 1 Axes>"
      ]
     },
     "metadata": {},
     "output_type": "display_data"
    }
   ],
   "source": [
    "colors = ['pink', 'steelblue']\n",
    "explode = (0.05, 0.05)\n",
    "data.groupby(['Churn']).count().plot(\n",
    "    kind='pie', y='Tenure', autopct='%1.0f%%',\n",
    "  colors=colors, explode=explode)"
   ]
  },
  {
   "attachments": {},
   "cell_type": "markdown",
   "metadata": {},
   "source": [
    "Terdapat perbedaan proporsi yang besar antara kelas positif dan negatif"
   ]
  },
  {
   "cell_type": "code",
   "execution_count": 341,
   "metadata": {},
   "outputs": [
    {
     "data": {
      "text/plain": [
       "0.163302752293578"
      ]
     },
     "execution_count": 341,
     "metadata": {},
     "output_type": "execute_result"
    }
   ],
   "source": [
    "data['Churn'].mean()"
   ]
  },
  {
   "attachments": {},
   "cell_type": "markdown",
   "metadata": {},
   "source": [
    "Terdapat hanya 16% data kelas positif yang dapat dinyatakan target pada dataset memiliki proporsi imbalance."
   ]
  },
  {
   "attachments": {},
   "cell_type": "markdown",
   "metadata": {},
   "source": [
    "**Data Splitting**"
   ]
  },
  {
   "cell_type": "code",
   "execution_count": 342,
   "metadata": {},
   "outputs": [],
   "source": [
    "# Define X and y\n",
    "x = data.drop(columns=['Churn'])\n",
    "y = data['Churn']"
   ]
  },
  {
   "cell_type": "code",
   "execution_count": 343,
   "metadata": {},
   "outputs": [],
   "source": [
    "x_train,x_test,y_train,y_test=train_test_split(x,y,stratify=y,test_size=0.2,random_state=2021)"
   ]
  },
  {
   "attachments": {},
   "cell_type": "markdown",
   "metadata": {},
   "source": [
    "## Model Benchmark"
   ]
  },
  {
   "attachments": {},
   "cell_type": "markdown",
   "metadata": {},
   "source": [
    "*K-Fold*"
   ]
  },
  {
   "cell_type": "code",
   "execution_count": 344,
   "metadata": {},
   "outputs": [
    {
     "data": {
      "text/html": [
       "<div>\n",
       "<style scoped>\n",
       "    .dataframe tbody tr th:only-of-type {\n",
       "        vertical-align: middle;\n",
       "    }\n",
       "\n",
       "    .dataframe tbody tr th {\n",
       "        vertical-align: top;\n",
       "    }\n",
       "\n",
       "    .dataframe thead th {\n",
       "        text-align: right;\n",
       "    }\n",
       "</style>\n",
       "<table border=\"1\" class=\"dataframe\">\n",
       "  <thead>\n",
       "    <tr style=\"text-align: right;\">\n",
       "      <th></th>\n",
       "      <th>mean recall</th>\n",
       "      <th>sdev</th>\n",
       "    </tr>\n",
       "    <tr>\n",
       "      <th>model</th>\n",
       "      <th></th>\n",
       "      <th></th>\n",
       "    </tr>\n",
       "  </thead>\n",
       "  <tbody>\n",
       "    <tr>\n",
       "      <th>Logistic Regression</th>\n",
       "      <td>0.780122</td>\n",
       "      <td>0.048326</td>\n",
       "    </tr>\n",
       "    <tr>\n",
       "      <th>KNN</th>\n",
       "      <td>0.735604</td>\n",
       "      <td>0.066128</td>\n",
       "    </tr>\n",
       "    <tr>\n",
       "      <th>LightGBM</th>\n",
       "      <td>0.653378</td>\n",
       "      <td>0.057814</td>\n",
       "    </tr>\n",
       "    <tr>\n",
       "      <th>XGBoost</th>\n",
       "      <td>0.639313</td>\n",
       "      <td>0.084187</td>\n",
       "    </tr>\n",
       "    <tr>\n",
       "      <th>Decision Tree</th>\n",
       "      <td>0.611573</td>\n",
       "      <td>0.096140</td>\n",
       "    </tr>\n",
       "    <tr>\n",
       "      <th>Random Forest</th>\n",
       "      <td>0.608970</td>\n",
       "      <td>0.065801</td>\n",
       "    </tr>\n",
       "  </tbody>\n",
       "</table>\n",
       "</div>"
      ],
      "text/plain": [
       "                     mean recall      sdev\n",
       "model                                     \n",
       "Logistic Regression     0.780122  0.048326\n",
       "KNN                     0.735604  0.066128\n",
       "LightGBM                0.653378  0.057814\n",
       "XGBoost                 0.639313  0.084187\n",
       "Decision Tree           0.611573  0.096140\n",
       "Random Forest           0.608970  0.065801"
      ]
     },
     "execution_count": 344,
     "metadata": {},
     "output_type": "execute_result"
    }
   ],
   "source": [
    "logreg = LogisticRegression()\n",
    "knn = KNeighborsClassifier()\n",
    "dt = DecisionTreeClassifier()\n",
    "rf = RandomForestClassifier()\n",
    "xgb = XGBClassifier()\n",
    "lgbm = lgb.LGBMClassifier()\n",
    "\n",
    "models = [logreg,knn,dt,rf,xgb,lgbm]\n",
    "score=[]\n",
    "rikol=[]\n",
    "std=[]\n",
    "\n",
    "for i in models:\n",
    "    skfold=StratifiedKFold(n_splits=10)\n",
    "    estimator=Pipeline([\n",
    "        ('preprocess',transformer),\n",
    "        ('sampler',SMOTE(sampling_strategy='minority')),\n",
    "        ('model',i),\n",
    "        ])\n",
    "    model_cv=cross_val_score(estimator,x_train,y_train,cv=skfold,scoring='recall')\n",
    "    score.append(model_cv)\n",
    "    rikol.append(model_cv.mean())\n",
    "    std.append(model_cv.std())\n",
    "    \n",
    "kfold = pd.DataFrame({'model':['Logistic Regression', 'KNN', 'Decision Tree', 'Random Forest', 'XGBoost', 'LightGBM'],'mean recall':rikol,'sdev':std}).set_index('model').sort_values(by='mean recall',ascending=False)\n",
    "kfold"
   ]
  },
  {
   "attachments": {},
   "cell_type": "markdown",
   "metadata": {},
   "source": [
    "*Test Data*"
   ]
  },
  {
   "cell_type": "code",
   "execution_count": 345,
   "metadata": {},
   "outputs": [
    {
     "name": "stdout",
     "output_type": "stream",
     "text": [
      "Logistic Regression \n",
      "               precision    recall  f1-score   support\n",
      "\n",
      "           0       0.96      0.78      0.86       547\n",
      "           1       0.43      0.85      0.57       107\n",
      "\n",
      "    accuracy                           0.79       654\n",
      "   macro avg       0.70      0.82      0.72       654\n",
      "weighted avg       0.88      0.79      0.82       654\n",
      "\n",
      "KNN \n",
      "               precision    recall  f1-score   support\n",
      "\n",
      "           0       0.95      0.75      0.84       547\n",
      "           1       0.39      0.80      0.52       107\n",
      "\n",
      "    accuracy                           0.76       654\n",
      "   macro avg       0.67      0.78      0.68       654\n",
      "weighted avg       0.86      0.76      0.79       654\n",
      "\n",
      "Decision Tree \n",
      "               precision    recall  f1-score   support\n",
      "\n",
      "           0       0.93      0.90      0.92       547\n",
      "           1       0.57      0.64      0.60       107\n",
      "\n",
      "    accuracy                           0.86       654\n",
      "   macro avg       0.75      0.77      0.76       654\n",
      "weighted avg       0.87      0.86      0.86       654\n",
      "\n",
      "Random Forest \n",
      "               precision    recall  f1-score   support\n",
      "\n",
      "           0       0.93      0.94      0.94       547\n",
      "           1       0.69      0.64      0.66       107\n",
      "\n",
      "    accuracy                           0.89       654\n",
      "   macro avg       0.81      0.79      0.80       654\n",
      "weighted avg       0.89      0.89      0.89       654\n",
      "\n",
      "XGBoost \n",
      "               precision    recall  f1-score   support\n",
      "\n",
      "           0       0.94      0.95      0.95       547\n",
      "           1       0.74      0.70      0.72       107\n",
      "\n",
      "    accuracy                           0.91       654\n",
      "   macro avg       0.84      0.83      0.83       654\n",
      "weighted avg       0.91      0.91      0.91       654\n",
      "\n",
      "LightGBM \n",
      "               precision    recall  f1-score   support\n",
      "\n",
      "           0       0.93      0.94      0.94       547\n",
      "           1       0.69      0.64      0.67       107\n",
      "\n",
      "    accuracy                           0.89       654\n",
      "   macro avg       0.81      0.79      0.80       654\n",
      "weighted avg       0.89      0.89      0.89       654\n",
      "\n"
     ]
    },
    {
     "data": {
      "text/html": [
       "<div>\n",
       "<style scoped>\n",
       "    .dataframe tbody tr th:only-of-type {\n",
       "        vertical-align: middle;\n",
       "    }\n",
       "\n",
       "    .dataframe tbody tr th {\n",
       "        vertical-align: top;\n",
       "    }\n",
       "\n",
       "    .dataframe thead th {\n",
       "        text-align: right;\n",
       "    }\n",
       "</style>\n",
       "<table border=\"1\" class=\"dataframe\">\n",
       "  <thead>\n",
       "    <tr style=\"text-align: right;\">\n",
       "      <th></th>\n",
       "      <th>recall score</th>\n",
       "    </tr>\n",
       "    <tr>\n",
       "      <th>model</th>\n",
       "      <th></th>\n",
       "    </tr>\n",
       "  </thead>\n",
       "  <tbody>\n",
       "    <tr>\n",
       "      <th>LightGBM</th>\n",
       "      <td>0.929855</td>\n",
       "    </tr>\n",
       "    <tr>\n",
       "      <th>XGBoost</th>\n",
       "      <td>0.929719</td>\n",
       "    </tr>\n",
       "    <tr>\n",
       "      <th>Random Forest</th>\n",
       "      <td>0.924986</td>\n",
       "    </tr>\n",
       "    <tr>\n",
       "      <th>Logistic Regression</th>\n",
       "      <td>0.874524</td>\n",
       "    </tr>\n",
       "    <tr>\n",
       "      <th>KNN</th>\n",
       "      <td>0.840353</td>\n",
       "    </tr>\n",
       "    <tr>\n",
       "      <th>Decision Tree</th>\n",
       "      <td>0.773984</td>\n",
       "    </tr>\n",
       "  </tbody>\n",
       "</table>\n",
       "</div>"
      ],
      "text/plain": [
       "                     recall score\n",
       "model                            \n",
       "LightGBM                 0.929855\n",
       "XGBoost                  0.929719\n",
       "Random Forest            0.924986\n",
       "Logistic Regression      0.874524\n",
       "KNN                      0.840353\n",
       "Decision Tree            0.773984"
      ]
     },
     "execution_count": 345,
     "metadata": {},
     "output_type": "execute_result"
    }
   ],
   "source": [
    "models = [logreg,knn,dt,rf,xgb,lgbm]\n",
    "scorerecall = []\n",
    "\n",
    "def y_pred_func(i):\n",
    "    estimator=Pipeline([\n",
    "        ('preprocess',transformer),\n",
    "        ('sampler', SMOTE(sampling_strategy='minority')),\n",
    "        ('model',i)])\n",
    "    x_train,x_test\n",
    "    \n",
    "    estimator.fit(x_train,y_train)\n",
    "    return(estimator,estimator.predict(x_test),x_test)\n",
    "\n",
    "for i,j in zip(models, ['Logistic Regression', 'KNN', 'Decision Tree', 'Random Forest', 'XGBoost','LightGBM']):\n",
    "    estimator,y_pred,x_test = y_pred_func(i)\n",
    "    y_predict_proba = estimator.predict_proba(x_test)[:,1]\n",
    "    scorerecall.append(roc_auc_score(y_test,y_predict_proba))\n",
    "    print(j,'\\n', classification_report(y_test,y_pred))\n",
    "    \n",
    "testdata = pd.DataFrame({'model':['Logistic Regression', 'KNN', 'Decision Tree', 'Random Forest', 'XGBoost','LightGBM'],\n",
    "             'recall score':scorerecall}).set_index('model').sort_values(by='recall score',ascending=False)\n",
    "testdata"
   ]
  },
  {
   "cell_type": "code",
   "execution_count": 346,
   "metadata": {},
   "outputs": [
    {
     "data": {
      "text/html": [
       "<div>\n",
       "<style scoped>\n",
       "    .dataframe tbody tr th:only-of-type {\n",
       "        vertical-align: middle;\n",
       "    }\n",
       "\n",
       "    .dataframe tbody tr th {\n",
       "        vertical-align: top;\n",
       "    }\n",
       "\n",
       "    .dataframe thead th {\n",
       "        text-align: right;\n",
       "    }\n",
       "</style>\n",
       "<table border=\"1\" class=\"dataframe\">\n",
       "  <thead>\n",
       "    <tr style=\"text-align: right;\">\n",
       "      <th></th>\n",
       "      <th>mean recall</th>\n",
       "      <th>sdev</th>\n",
       "      <th>recall score</th>\n",
       "      <th>selisih</th>\n",
       "    </tr>\n",
       "    <tr>\n",
       "      <th>model</th>\n",
       "      <th></th>\n",
       "      <th></th>\n",
       "      <th></th>\n",
       "      <th></th>\n",
       "    </tr>\n",
       "  </thead>\n",
       "  <tbody>\n",
       "    <tr>\n",
       "      <th>Logistic Regression</th>\n",
       "      <td>0.780122</td>\n",
       "      <td>0.048326</td>\n",
       "      <td>0.874524</td>\n",
       "      <td>0.094402</td>\n",
       "    </tr>\n",
       "    <tr>\n",
       "      <th>KNN</th>\n",
       "      <td>0.735604</td>\n",
       "      <td>0.066128</td>\n",
       "      <td>0.840353</td>\n",
       "      <td>0.104749</td>\n",
       "    </tr>\n",
       "    <tr>\n",
       "      <th>LightGBM</th>\n",
       "      <td>0.653378</td>\n",
       "      <td>0.057814</td>\n",
       "      <td>0.929855</td>\n",
       "      <td>0.276478</td>\n",
       "    </tr>\n",
       "    <tr>\n",
       "      <th>XGBoost</th>\n",
       "      <td>0.639313</td>\n",
       "      <td>0.084187</td>\n",
       "      <td>0.929719</td>\n",
       "      <td>0.290405</td>\n",
       "    </tr>\n",
       "    <tr>\n",
       "      <th>Decision Tree</th>\n",
       "      <td>0.611573</td>\n",
       "      <td>0.096140</td>\n",
       "      <td>0.773984</td>\n",
       "      <td>0.162411</td>\n",
       "    </tr>\n",
       "    <tr>\n",
       "      <th>Random Forest</th>\n",
       "      <td>0.608970</td>\n",
       "      <td>0.065801</td>\n",
       "      <td>0.924986</td>\n",
       "      <td>0.316016</td>\n",
       "    </tr>\n",
       "  </tbody>\n",
       "</table>\n",
       "</div>"
      ],
      "text/plain": [
       "                     mean recall      sdev  recall score   selisih\n",
       "model                                                             \n",
       "Logistic Regression     0.780122  0.048326      0.874524  0.094402\n",
       "KNN                     0.735604  0.066128      0.840353  0.104749\n",
       "LightGBM                0.653378  0.057814      0.929855  0.276478\n",
       "XGBoost                 0.639313  0.084187      0.929719  0.290405\n",
       "Decision Tree           0.611573  0.096140      0.773984  0.162411\n",
       "Random Forest           0.608970  0.065801      0.924986  0.316016"
      ]
     },
     "execution_count": 346,
     "metadata": {},
     "output_type": "execute_result"
    }
   ],
   "source": [
    "selisih = kfold.join(testdata)\n",
    "selisih['selisih'] = abs(selisih['mean recall'] - selisih['recall score'])\n",
    "selisih\n"
   ]
  },
  {
   "attachments": {},
   "cell_type": "markdown",
   "metadata": {},
   "source": [
    "K-fold cross validation adalah metode validasi model yang digunakan untuk menilai kinerja model dengan membagi data latih menjadi beberapa bagian (biasanya 5 atau 10 bagian), dan membuat model pada bagian data latih dan memvalidasinya pada bagian data tes yang lain. Proses ini dilakukan secara berulang sebanyak jumlah bagian data, sehingga setiap bagian data akan digunakan sebagai data tes satu kali dan sisanya sebagai data latih. Hasil dari proses ini adalah rata-rata dari semua hasil validasi, yang menunjukkan kinerja model secara umum.\n",
    "\n",
    "Data test, sebaliknya, adalah bagian data yang dipisahkan sebelum membuat model dan digunakan sebagai data tes untuk menilai kinerja model. Data ini tidak digunakan untuk membuat model, tetapi hanya digunakan untuk menilai hasil model. Data test ini digunakan untuk mengetahui seberapa baik model dapat memprediksi data baru yang tidak terlihat sebelumnya.\n",
    "\n",
    "Kedua metode ini memiliki kelebihan dan kekurangan masing-masing, tetapi k-fold cross validation lebih baik digunakan jika data latih tidak memiliki banyak data, data test lebih mudah dilakukan dan memberikan hasil yang lebih akurat jika data latih cukup banyak"
   ]
  },
  {
   "attachments": {},
   "cell_type": "markdown",
   "metadata": {},
   "source": [
    "Terdapat perbedaan terkecil sebesar 0.08 pada model Logistic Regression untuk nilai benchmarking menggunakan K-fold dan Data Test, maka dari itu penulis menggunakan Logistic Regression sebagain base model"
   ]
  },
  {
   "attachments": {},
   "cell_type": "markdown",
   "metadata": {},
   "source": [
    "## *HYPERPARAMETER TUNING GRID SEARCH*"
   ]
  },
  {
   "attachments": {},
   "cell_type": "markdown",
   "metadata": {},
   "source": [
    "Grid search adalah metode tuning hyperparameter yang melakukan pencarian melalui sejumlah nilai hyperparameter yang ditentukan untuk menemukan kombinasi hyperparameter terbaik untuk model. Dalam hal logistic regression, beberapa hyperparameter yang bisa ditentukan seperti nilai C dan penalty.\n",
    "\n",
    "Nilai C adalah invers dari nilai regulasi dalam model logistic regression. Semakin kecil nilai C, semakin besar regulasi dan sebaliknya. Nilai ini bertanggung jawab untuk mengatur tingkat pembebanan error pada model.\n",
    "\n",
    "Penalty adalah jenis regulasi yang digunakan dalam model logistic regression. Ada dua jenis penalty yang umum digunakan yaitu L1 dan L2. L1 menghasilkan coefficients sparse, yaitu hanya beberapa variabel saja yang memiliki nilai non-nol. Sementara L2 menghasilkan coefficients yang lebih halus.\n",
    "\n",
    "Melalui grid search, kita bisa menentukan nilai hyperparameter terbaik dengan melakukan pencarian melalui sejumlah kombinasi hyperparameter yang ditentukan."
   ]
  },
  {
   "cell_type": "code",
   "execution_count": 347,
   "metadata": {},
   "outputs": [],
   "source": [
    "hyperparam_space = {\n",
    "    'model__C':[1000, 500, 100, 50, 10, 5, 1, 0.5, 0.1, 0.05, 0.01, 0.005, 0.001, 0.0005, 0.0001], # benck mark 1 C = 1 bench mark 2 C = 0.05\n",
    "    'model__penalty':['l1','l2'],\n",
    "    'model__solver': ['lbfgs', 'liblinear', 'newton-cg', 'newton-cholesky', 'sag', 'saga'],\n",
    "    'model__penalty': ['l1', 'l2', 'elasticnet', None]\n",
    "}"
   ]
  },
  {
   "cell_type": "code",
   "execution_count": 348,
   "metadata": {},
   "outputs": [],
   "source": [
    "estimator=Pipeline([\n",
    "        ('preprocess',transformer),\n",
    "        ('sampler',SMOTE(sampling_strategy='minority')),\n",
    "        ('model',logreg),\n",
    "        ])\n",
    "\n",
    "grid_search = GridSearchCV(\n",
    "    estimator, # model to tune\n",
    "    param_grid = hyperparam_space, # hyperparameter space\n",
    "    cv = skfold, # evaluation method\n",
    "    scoring = 'recall', # metrics\n",
    "    n_jobs = -1 # use all cores\n",
    ")"
   ]
  },
  {
   "cell_type": "code",
   "execution_count": 349,
   "metadata": {},
   "outputs": [
    {
     "data": {
      "text/plain": [
       "GridSearchCV(cv=StratifiedKFold(n_splits=10, random_state=None, shuffle=False),\n",
       "             estimator=Pipeline(steps=[('preprocess',\n",
       "                                        ColumnTransformer(remainder='passthrough',\n",
       "                                                          transformers=[('onehot',\n",
       "                                                                         OneHotEncoder(drop='first'),\n",
       "                                                                         ['MaritalStatus']),\n",
       "                                                                        ('binary',\n",
       "                                                                         BinaryEncoder(),\n",
       "                                                                         ['PreferedOrderCat'])])),\n",
       "                                       ('sampler',\n",
       "                                        SMOTE(sampling_strategy='minority')),\n",
       "                                       ('model', LogisticRegression())]),\n",
       "             n_jobs=-1,\n",
       "             param_grid={'model__C': [1000, 500, 100, 50, 10, 5, 1, 0.5, 0.1,\n",
       "                                      0.05, 0.01, 0.005, 0.001, 0.0005,\n",
       "                                      0.0001],\n",
       "                         'model__penalty': ['l1', 'l2', 'elasticnet', None],\n",
       "                         'model__solver': ['lbfgs', 'liblinear', 'newton-cg',\n",
       "                                           'newton-cholesky', 'sag', 'saga']},\n",
       "             scoring='recall')"
      ]
     },
     "execution_count": 349,
     "metadata": {},
     "output_type": "execute_result"
    }
   ],
   "source": [
    "grid_search.fit(x_train, y_train)"
   ]
  },
  {
   "cell_type": "code",
   "execution_count": 350,
   "metadata": {},
   "outputs": [
    {
     "name": "stdout",
     "output_type": "stream",
     "text": [
      "best score 0.8151162790697674\n",
      "best param {'model__C': 0.05, 'model__penalty': 'l2', 'model__solver': 'sag'}\n"
     ]
    }
   ],
   "source": [
    "print('best score',grid_search.best_score_)\n",
    "print('best param',grid_search.best_params_)"
   ]
  },
  {
   "attachments": {},
   "cell_type": "markdown",
   "metadata": {},
   "source": [
    "Setelah melakukan hyperparameter tuning didapatkan nilai untuk setiap parameter untuk mendapatkan error terendah."
   ]
  },
  {
   "cell_type": "code",
   "execution_count": 351,
   "metadata": {},
   "outputs": [
    {
     "data": {
      "text/html": [
       "<div>\n",
       "<style scoped>\n",
       "    .dataframe tbody tr th:only-of-type {\n",
       "        vertical-align: middle;\n",
       "    }\n",
       "\n",
       "    .dataframe tbody tr th {\n",
       "        vertical-align: top;\n",
       "    }\n",
       "\n",
       "    .dataframe thead th {\n",
       "        text-align: right;\n",
       "    }\n",
       "</style>\n",
       "<table border=\"1\" class=\"dataframe\">\n",
       "  <thead>\n",
       "    <tr style=\"text-align: right;\">\n",
       "      <th></th>\n",
       "      <th>mean_fit_time</th>\n",
       "      <th>std_fit_time</th>\n",
       "      <th>mean_score_time</th>\n",
       "      <th>std_score_time</th>\n",
       "      <th>param_model__C</th>\n",
       "      <th>param_model__penalty</th>\n",
       "      <th>param_model__solver</th>\n",
       "      <th>params</th>\n",
       "      <th>split0_test_score</th>\n",
       "      <th>split1_test_score</th>\n",
       "      <th>split2_test_score</th>\n",
       "      <th>split3_test_score</th>\n",
       "      <th>split4_test_score</th>\n",
       "      <th>split5_test_score</th>\n",
       "      <th>split6_test_score</th>\n",
       "      <th>split7_test_score</th>\n",
       "      <th>split8_test_score</th>\n",
       "      <th>split9_test_score</th>\n",
       "      <th>mean_test_score</th>\n",
       "      <th>std_test_score</th>\n",
       "      <th>rank_test_score</th>\n",
       "    </tr>\n",
       "  </thead>\n",
       "  <tbody>\n",
       "    <tr>\n",
       "      <th>0</th>\n",
       "      <td>0.043284</td>\n",
       "      <td>0.003816</td>\n",
       "      <td>0.000000</td>\n",
       "      <td>0.000000</td>\n",
       "      <td>1000</td>\n",
       "      <td>l1</td>\n",
       "      <td>lbfgs</td>\n",
       "      <td>{'model__C': 1000, 'model__penalty': 'l1', 'mo...</td>\n",
       "      <td>NaN</td>\n",
       "      <td>NaN</td>\n",
       "      <td>NaN</td>\n",
       "      <td>NaN</td>\n",
       "      <td>NaN</td>\n",
       "      <td>NaN</td>\n",
       "      <td>NaN</td>\n",
       "      <td>NaN</td>\n",
       "      <td>NaN</td>\n",
       "      <td>NaN</td>\n",
       "      <td>NaN</td>\n",
       "      <td>NaN</td>\n",
       "      <td>211</td>\n",
       "    </tr>\n",
       "    <tr>\n",
       "      <th>1</th>\n",
       "      <td>0.270277</td>\n",
       "      <td>0.156830</td>\n",
       "      <td>0.028025</td>\n",
       "      <td>0.019495</td>\n",
       "      <td>1000</td>\n",
       "      <td>l1</td>\n",
       "      <td>liblinear</td>\n",
       "      <td>{'model__C': 1000, 'model__penalty': 'l1', 'mo...</td>\n",
       "      <td>0.767442</td>\n",
       "      <td>0.813953</td>\n",
       "      <td>0.860465</td>\n",
       "      <td>0.744186</td>\n",
       "      <td>0.790698</td>\n",
       "      <td>0.790698</td>\n",
       "      <td>0.809524</td>\n",
       "      <td>0.880952</td>\n",
       "      <td>0.761905</td>\n",
       "      <td>0.744186</td>\n",
       "      <td>0.796401</td>\n",
       "      <td>0.043909</td>\n",
       "      <td>42</td>\n",
       "    </tr>\n",
       "    <tr>\n",
       "      <th>2</th>\n",
       "      <td>0.037001</td>\n",
       "      <td>0.001296</td>\n",
       "      <td>0.000000</td>\n",
       "      <td>0.000000</td>\n",
       "      <td>1000</td>\n",
       "      <td>l1</td>\n",
       "      <td>newton-cg</td>\n",
       "      <td>{'model__C': 1000, 'model__penalty': 'l1', 'mo...</td>\n",
       "      <td>NaN</td>\n",
       "      <td>NaN</td>\n",
       "      <td>NaN</td>\n",
       "      <td>NaN</td>\n",
       "      <td>NaN</td>\n",
       "      <td>NaN</td>\n",
       "      <td>NaN</td>\n",
       "      <td>NaN</td>\n",
       "      <td>NaN</td>\n",
       "      <td>NaN</td>\n",
       "      <td>NaN</td>\n",
       "      <td>NaN</td>\n",
       "      <td>264</td>\n",
       "    </tr>\n",
       "    <tr>\n",
       "      <th>3</th>\n",
       "      <td>0.039395</td>\n",
       "      <td>0.002967</td>\n",
       "      <td>0.000000</td>\n",
       "      <td>0.000000</td>\n",
       "      <td>1000</td>\n",
       "      <td>l1</td>\n",
       "      <td>newton-cholesky</td>\n",
       "      <td>{'model__C': 1000, 'model__penalty': 'l1', 'mo...</td>\n",
       "      <td>NaN</td>\n",
       "      <td>NaN</td>\n",
       "      <td>NaN</td>\n",
       "      <td>NaN</td>\n",
       "      <td>NaN</td>\n",
       "      <td>NaN</td>\n",
       "      <td>NaN</td>\n",
       "      <td>NaN</td>\n",
       "      <td>NaN</td>\n",
       "      <td>NaN</td>\n",
       "      <td>NaN</td>\n",
       "      <td>NaN</td>\n",
       "      <td>263</td>\n",
       "    </tr>\n",
       "    <tr>\n",
       "      <th>4</th>\n",
       "      <td>0.040891</td>\n",
       "      <td>0.005781</td>\n",
       "      <td>0.000000</td>\n",
       "      <td>0.000000</td>\n",
       "      <td>1000</td>\n",
       "      <td>l1</td>\n",
       "      <td>sag</td>\n",
       "      <td>{'model__C': 1000, 'model__penalty': 'l1', 'mo...</td>\n",
       "      <td>NaN</td>\n",
       "      <td>NaN</td>\n",
       "      <td>NaN</td>\n",
       "      <td>NaN</td>\n",
       "      <td>NaN</td>\n",
       "      <td>NaN</td>\n",
       "      <td>NaN</td>\n",
       "      <td>NaN</td>\n",
       "      <td>NaN</td>\n",
       "      <td>NaN</td>\n",
       "      <td>NaN</td>\n",
       "      <td>NaN</td>\n",
       "      <td>262</td>\n",
       "    </tr>\n",
       "    <tr>\n",
       "      <th>...</th>\n",
       "      <td>...</td>\n",
       "      <td>...</td>\n",
       "      <td>...</td>\n",
       "      <td>...</td>\n",
       "      <td>...</td>\n",
       "      <td>...</td>\n",
       "      <td>...</td>\n",
       "      <td>...</td>\n",
       "      <td>...</td>\n",
       "      <td>...</td>\n",
       "      <td>...</td>\n",
       "      <td>...</td>\n",
       "      <td>...</td>\n",
       "      <td>...</td>\n",
       "      <td>...</td>\n",
       "      <td>...</td>\n",
       "      <td>...</td>\n",
       "      <td>...</td>\n",
       "      <td>...</td>\n",
       "      <td>...</td>\n",
       "      <td>...</td>\n",
       "    </tr>\n",
       "    <tr>\n",
       "      <th>355</th>\n",
       "      <td>0.058843</td>\n",
       "      <td>0.003837</td>\n",
       "      <td>0.000000</td>\n",
       "      <td>0.000000</td>\n",
       "      <td>0.0001</td>\n",
       "      <td>None</td>\n",
       "      <td>liblinear</td>\n",
       "      <td>{'model__C': 0.0001, 'model__penalty': None, '...</td>\n",
       "      <td>NaN</td>\n",
       "      <td>NaN</td>\n",
       "      <td>NaN</td>\n",
       "      <td>NaN</td>\n",
       "      <td>NaN</td>\n",
       "      <td>NaN</td>\n",
       "      <td>NaN</td>\n",
       "      <td>NaN</td>\n",
       "      <td>NaN</td>\n",
       "      <td>NaN</td>\n",
       "      <td>NaN</td>\n",
       "      <td>NaN</td>\n",
       "      <td>129</td>\n",
       "    </tr>\n",
       "    <tr>\n",
       "      <th>356</th>\n",
       "      <td>0.057546</td>\n",
       "      <td>0.007790</td>\n",
       "      <td>0.000000</td>\n",
       "      <td>0.000000</td>\n",
       "      <td>0.0001</td>\n",
       "      <td>None</td>\n",
       "      <td>newton-cg</td>\n",
       "      <td>{'model__C': 0.0001, 'model__penalty': None, '...</td>\n",
       "      <td>NaN</td>\n",
       "      <td>NaN</td>\n",
       "      <td>NaN</td>\n",
       "      <td>NaN</td>\n",
       "      <td>NaN</td>\n",
       "      <td>NaN</td>\n",
       "      <td>NaN</td>\n",
       "      <td>NaN</td>\n",
       "      <td>NaN</td>\n",
       "      <td>NaN</td>\n",
       "      <td>NaN</td>\n",
       "      <td>NaN</td>\n",
       "      <td>128</td>\n",
       "    </tr>\n",
       "    <tr>\n",
       "      <th>357</th>\n",
       "      <td>0.059940</td>\n",
       "      <td>0.008108</td>\n",
       "      <td>0.000000</td>\n",
       "      <td>0.000000</td>\n",
       "      <td>0.0001</td>\n",
       "      <td>None</td>\n",
       "      <td>newton-cholesky</td>\n",
       "      <td>{'model__C': 0.0001, 'model__penalty': None, '...</td>\n",
       "      <td>NaN</td>\n",
       "      <td>NaN</td>\n",
       "      <td>NaN</td>\n",
       "      <td>NaN</td>\n",
       "      <td>NaN</td>\n",
       "      <td>NaN</td>\n",
       "      <td>NaN</td>\n",
       "      <td>NaN</td>\n",
       "      <td>NaN</td>\n",
       "      <td>NaN</td>\n",
       "      <td>NaN</td>\n",
       "      <td>NaN</td>\n",
       "      <td>127</td>\n",
       "    </tr>\n",
       "    <tr>\n",
       "      <th>358</th>\n",
       "      <td>0.058444</td>\n",
       "      <td>0.005186</td>\n",
       "      <td>0.000000</td>\n",
       "      <td>0.000000</td>\n",
       "      <td>0.0001</td>\n",
       "      <td>None</td>\n",
       "      <td>sag</td>\n",
       "      <td>{'model__C': 0.0001, 'model__penalty': None, '...</td>\n",
       "      <td>NaN</td>\n",
       "      <td>NaN</td>\n",
       "      <td>NaN</td>\n",
       "      <td>NaN</td>\n",
       "      <td>NaN</td>\n",
       "      <td>NaN</td>\n",
       "      <td>NaN</td>\n",
       "      <td>NaN</td>\n",
       "      <td>NaN</td>\n",
       "      <td>NaN</td>\n",
       "      <td>NaN</td>\n",
       "      <td>NaN</td>\n",
       "      <td>291</td>\n",
       "    </tr>\n",
       "    <tr>\n",
       "      <th>359</th>\n",
       "      <td>0.053457</td>\n",
       "      <td>0.010688</td>\n",
       "      <td>0.000000</td>\n",
       "      <td>0.000000</td>\n",
       "      <td>0.0001</td>\n",
       "      <td>None</td>\n",
       "      <td>saga</td>\n",
       "      <td>{'model__C': 0.0001, 'model__penalty': None, '...</td>\n",
       "      <td>NaN</td>\n",
       "      <td>NaN</td>\n",
       "      <td>NaN</td>\n",
       "      <td>NaN</td>\n",
       "      <td>NaN</td>\n",
       "      <td>NaN</td>\n",
       "      <td>NaN</td>\n",
       "      <td>NaN</td>\n",
       "      <td>NaN</td>\n",
       "      <td>NaN</td>\n",
       "      <td>NaN</td>\n",
       "      <td>NaN</td>\n",
       "      <td>360</td>\n",
       "    </tr>\n",
       "  </tbody>\n",
       "</table>\n",
       "<p>360 rows × 21 columns</p>\n",
       "</div>"
      ],
      "text/plain": [
       "     mean_fit_time  std_fit_time  mean_score_time  std_score_time  \\\n",
       "0         0.043284      0.003816         0.000000        0.000000   \n",
       "1         0.270277      0.156830         0.028025        0.019495   \n",
       "2         0.037001      0.001296         0.000000        0.000000   \n",
       "3         0.039395      0.002967         0.000000        0.000000   \n",
       "4         0.040891      0.005781         0.000000        0.000000   \n",
       "..             ...           ...              ...             ...   \n",
       "355       0.058843      0.003837         0.000000        0.000000   \n",
       "356       0.057546      0.007790         0.000000        0.000000   \n",
       "357       0.059940      0.008108         0.000000        0.000000   \n",
       "358       0.058444      0.005186         0.000000        0.000000   \n",
       "359       0.053457      0.010688         0.000000        0.000000   \n",
       "\n",
       "    param_model__C param_model__penalty param_model__solver  \\\n",
       "0             1000                   l1               lbfgs   \n",
       "1             1000                   l1           liblinear   \n",
       "2             1000                   l1           newton-cg   \n",
       "3             1000                   l1     newton-cholesky   \n",
       "4             1000                   l1                 sag   \n",
       "..             ...                  ...                 ...   \n",
       "355         0.0001                 None           liblinear   \n",
       "356         0.0001                 None           newton-cg   \n",
       "357         0.0001                 None     newton-cholesky   \n",
       "358         0.0001                 None                 sag   \n",
       "359         0.0001                 None                saga   \n",
       "\n",
       "                                                params  split0_test_score  \\\n",
       "0    {'model__C': 1000, 'model__penalty': 'l1', 'mo...                NaN   \n",
       "1    {'model__C': 1000, 'model__penalty': 'l1', 'mo...           0.767442   \n",
       "2    {'model__C': 1000, 'model__penalty': 'l1', 'mo...                NaN   \n",
       "3    {'model__C': 1000, 'model__penalty': 'l1', 'mo...                NaN   \n",
       "4    {'model__C': 1000, 'model__penalty': 'l1', 'mo...                NaN   \n",
       "..                                                 ...                ...   \n",
       "355  {'model__C': 0.0001, 'model__penalty': None, '...                NaN   \n",
       "356  {'model__C': 0.0001, 'model__penalty': None, '...                NaN   \n",
       "357  {'model__C': 0.0001, 'model__penalty': None, '...                NaN   \n",
       "358  {'model__C': 0.0001, 'model__penalty': None, '...                NaN   \n",
       "359  {'model__C': 0.0001, 'model__penalty': None, '...                NaN   \n",
       "\n",
       "     split1_test_score  split2_test_score  split3_test_score  \\\n",
       "0                  NaN                NaN                NaN   \n",
       "1             0.813953           0.860465           0.744186   \n",
       "2                  NaN                NaN                NaN   \n",
       "3                  NaN                NaN                NaN   \n",
       "4                  NaN                NaN                NaN   \n",
       "..                 ...                ...                ...   \n",
       "355                NaN                NaN                NaN   \n",
       "356                NaN                NaN                NaN   \n",
       "357                NaN                NaN                NaN   \n",
       "358                NaN                NaN                NaN   \n",
       "359                NaN                NaN                NaN   \n",
       "\n",
       "     split4_test_score  split5_test_score  split6_test_score  \\\n",
       "0                  NaN                NaN                NaN   \n",
       "1             0.790698           0.790698           0.809524   \n",
       "2                  NaN                NaN                NaN   \n",
       "3                  NaN                NaN                NaN   \n",
       "4                  NaN                NaN                NaN   \n",
       "..                 ...                ...                ...   \n",
       "355                NaN                NaN                NaN   \n",
       "356                NaN                NaN                NaN   \n",
       "357                NaN                NaN                NaN   \n",
       "358                NaN                NaN                NaN   \n",
       "359                NaN                NaN                NaN   \n",
       "\n",
       "     split7_test_score  split8_test_score  split9_test_score  mean_test_score  \\\n",
       "0                  NaN                NaN                NaN              NaN   \n",
       "1             0.880952           0.761905           0.744186         0.796401   \n",
       "2                  NaN                NaN                NaN              NaN   \n",
       "3                  NaN                NaN                NaN              NaN   \n",
       "4                  NaN                NaN                NaN              NaN   \n",
       "..                 ...                ...                ...              ...   \n",
       "355                NaN                NaN                NaN              NaN   \n",
       "356                NaN                NaN                NaN              NaN   \n",
       "357                NaN                NaN                NaN              NaN   \n",
       "358                NaN                NaN                NaN              NaN   \n",
       "359                NaN                NaN                NaN              NaN   \n",
       "\n",
       "     std_test_score  rank_test_score  \n",
       "0               NaN              211  \n",
       "1          0.043909               42  \n",
       "2               NaN              264  \n",
       "3               NaN              263  \n",
       "4               NaN              262  \n",
       "..              ...              ...  \n",
       "355             NaN              129  \n",
       "356             NaN              128  \n",
       "357             NaN              127  \n",
       "358             NaN              291  \n",
       "359             NaN              360  \n",
       "\n",
       "[360 rows x 21 columns]"
      ]
     },
     "execution_count": 351,
     "metadata": {},
     "output_type": "execute_result"
    }
   ],
   "source": [
    "pd.DataFrame(grid_search.cv_results_)"
   ]
  },
  {
   "attachments": {},
   "cell_type": "markdown",
   "metadata": {},
   "source": [
    "## *FINAL MODEL EVALUATION*"
   ]
  },
  {
   "cell_type": "code",
   "execution_count": 379,
   "metadata": {},
   "outputs": [
    {
     "name": "stdout",
     "output_type": "stream",
     "text": [
      "              precision    recall  f1-score   support\n",
      "\n",
      "           0       0.95      0.73      0.83       547\n",
      "           1       0.37      0.81      0.51       107\n",
      "\n",
      "    accuracy                           0.74       654\n",
      "   macro avg       0.66      0.77      0.67       654\n",
      "weighted avg       0.86      0.74      0.78       654\n",
      "\n"
     ]
    }
   ],
   "source": [
    "lr = LogisticRegression()\n",
    "\n",
    "beforetuning=Pipeline([\n",
    "        ('preprocess',transformer),\n",
    "        ('sampler', SMOTE(sampling_strategy='minority')),\n",
    "        ('model',lr)])\n",
    "estimator.fit(x_train,y_train)\n",
    "y_pred = estimator.predict(x_test)\n",
    "print(classification_report(y_test,y_pred))"
   ]
  },
  {
   "cell_type": "code",
   "execution_count": 380,
   "metadata": {},
   "outputs": [
    {
     "name": "stdout",
     "output_type": "stream",
     "text": [
      "recall 0.8130841121495327\n",
      "precision 0.3717948717948718\n",
      "f1 0.5102639296187683\n"
     ]
    }
   ],
   "source": [
    "print('recall', recall_score(y_test, y_pred))\n",
    "print('precision', precision_score(y_test, y_pred))\n",
    "print('f1', f1_score(y_test, y_pred))"
   ]
  },
  {
   "cell_type": "code",
   "execution_count": 381,
   "metadata": {},
   "outputs": [
    {
     "name": "stdout",
     "output_type": "stream",
     "text": [
      "              precision    recall  f1-score   support\n",
      "\n",
      "           0       0.95      0.73      0.83       547\n",
      "           1       0.37      0.81      0.51       107\n",
      "\n",
      "    accuracy                           0.75       654\n",
      "   macro avg       0.66      0.77      0.67       654\n",
      "weighted avg       0.86      0.75      0.78       654\n",
      "\n"
     ]
    }
   ],
   "source": [
    "lr2 = LogisticRegression(penalty='l2', solver='sag', C=50)\n",
    "\n",
    "aftertuning=Pipeline([\n",
    "        ('preprocess',transformer),\n",
    "        ('sampler', SMOTE(sampling_strategy='minority')),\n",
    "        ('model',lr)])\n",
    "    \n",
    "estimator.fit(x_train,y_train)\n",
    "y_pred = estimator.predict(x_test)\n",
    "print(classification_report(y_test,y_pred))"
   ]
  },
  {
   "cell_type": "code",
   "execution_count": 382,
   "metadata": {},
   "outputs": [
    {
     "name": "stdout",
     "output_type": "stream",
     "text": [
      "recall 0.8130841121495327\n",
      "precision 0.37339055793991416\n",
      "f1 0.5117647058823529\n"
     ]
    }
   ],
   "source": [
    "print('recall', recall_score(y_test, y_pred))\n",
    "print('precision', precision_score(y_test, y_pred))\n",
    "print('f1', f1_score(y_test, y_pred))"
   ]
  },
  {
   "attachments": {},
   "cell_type": "markdown",
   "metadata": {},
   "source": [
    "Tidak terdapat perbedaan yang signifikan pada hasil prediksi untuk model sebelum di tuning dan sesudah tuning.Alasan ini terjadi dapat disebabkan oleh ukuran data mungkin terlalu kecil untuk memungkinkan model untuk memperoleh hasil yang signifikan."
   ]
  },
  {
   "attachments": {},
   "cell_type": "markdown",
   "metadata": {},
   "source": [
    "Berdasarkan hasil classification report dari model, dapat disimpulkan konklusi bahwa bila seandainya nanti perusahaan menggunakan model kita untuk mentargetkan strategi retensi yang akan kita coba tawarkan, maka model kita dapat memprediksi customer yang akan churn dengan 81% akurasi, dan model kita dapat memprediksi customer yang tidak akan churn dalam waktu dekat dengan 73% akurasi. (semua ini berdasarkan recallnya)"
   ]
  },
  {
   "attachments": {},
   "cell_type": "markdown",
   "metadata": {},
   "source": [
    "## *Conclusion & Recommendation*"
   ]
  },
  {
   "cell_type": "code",
   "execution_count": 384,
   "metadata": {},
   "outputs": [
    {
     "name": "stdout",
     "output_type": "stream",
     "text": [
      "              precision    recall  f1-score   support\n",
      "\n",
      "           0       0.95      0.73      0.83       547\n",
      "           1       0.37      0.81      0.51       107\n",
      "\n",
      "    accuracy                           0.75       654\n",
      "   macro avg       0.66      0.77      0.67       654\n",
      "weighted avg       0.86      0.75      0.78       654\n",
      "\n"
     ]
    }
   ],
   "source": [
    "print(classification_report(y_test,y_pred))"
   ]
  },
  {
   "cell_type": "code",
   "execution_count": 383,
   "metadata": {},
   "outputs": [
    {
     "name": "stdout",
     "output_type": "stream",
     "text": [
      "recall 0.8130841121495327\n",
      "precision 0.37339055793991416\n"
     ]
    }
   ],
   "source": [
    "print('recall', recall_score(y_test, y_pred))\n",
    "print('precision', precision_score(y_test, y_pred))"
   ]
  },
  {
   "attachments": {},
   "cell_type": "markdown",
   "metadata": {},
   "source": [
    "<h3>Skenario tanpa model machine learning:</h3>\n",
    "  \n",
    "Retensi Cost akan diterapkan kepada seluruh customer.\n",
    "\n",
    "atau  \n",
    "\n",
    "Acquisition Cost akan diterapkan kepada customer churn."
   ]
  },
  {
   "attachments": {},
   "cell_type": "markdown",
   "metadata": {},
   "source": [
    "Retention Cost < Acqusition Cost"
   ]
  },
  {
   "attachments": {},
   "cell_type": "markdown",
   "metadata": {},
   "source": [
    "\\begin{align*}\n",
    "  Customer Retention Cost &= A / Customer\\\\\n",
    "  Customer Acquisition Cost &= B / Customer\\\\\n",
    "\\end{align*}  \n",
    "dimana A < B"
   ]
  },
  {
   "attachments": {},
   "cell_type": "markdown",
   "metadata": {},
   "source": [
    "Untuk menjaga revenue/profit perusahaan, maka perusahaan harus mengoptimalkan tingkat retensi customer atau meminimalkan tingkat churn customer."
   ]
  },
  {
   "attachments": {},
   "cell_type": "markdown",
   "metadata": {},
   "source": [
    "Jika diambil sample dari customer sebanyak 100 orang dengan asumsi Central Limit. Maka sample akan memiliki 16% proporsi customer churn. Dari sample ini kita akan hitung retention cost dan acquisition cost dalam periode waktu tertentu.  \n",
    "\n",
    "\\begin{align*}\n",
    "  Customer Acquisiton Cost &= B * 16\\\\\n",
    "\\end{align*}  \n",
    "Sementara itu jika kita tidak ingin melakukan akuisisi maka:\n",
    "\\begin{align*}\n",
    "  Customer Retention Cost &= A * 100\\\\\n",
    "\\end{align*}  \n",
    "Dapat disimpulkan, biaya untuk menjaga tingkat revenue perusahaan adalah sebesar:\n",
    "\\begin{align*}\n",
    "  Customer Acquisiton Cost + Customer Retention Cost &= (B * 16) atau (A * 100)\\\\\n",
    "\\end{align*} "
   ]
  },
  {
   "attachments": {},
   "cell_type": "markdown",
   "metadata": {},
   "source": [
    " <h3>Skenario dengan model machine learning:</h3>"
   ]
  },
  {
   "attachments": {},
   "cell_type": "markdown",
   "metadata": {},
   "source": [
    "Kita dapat memprediksi 81% dari pelanggan yang akan churn dan menerapkan strategi retensi dengan biaya A per Customer.  \n",
    "Jika kita mengambil sample dengan jumlah churn adalah 16 dari 100 customer maka biaya total yang dikeluarkan perusahaan untuk menjaga tingkat revenue:\n",
    "\\begin{align*}\n",
    "  Total Cost &= ((0,81 * 16 * A) + (0,19 * 16 * B)) + (0,27 * 84 * B)\\\\\n",
    "\\end{align*} \n",
    "Dimana 0.81 adalah tingkat akurasi prediksi churn pada customer yang akan churn maka dikenakan biaya Retensi.  \n",
    "Dimana 0.19 adalah tingkat False Positif churn pada customer, maka dikenakan biaya Retensi dan Akuisisi.  \n",
    "Dan 0,27 adalah tingkat False Negatif rate dimana prediksi mengatakan tidak churn tetapi aktualnya churn, maka dari itu dikenakan Akusisi cost."
   ]
  },
  {
   "attachments": {},
   "cell_type": "markdown",
   "metadata": {},
   "source": [
    "Agar Machine Learning dengan performa seperti diatas dapat membuahkan hasil, maka:\n",
    "\\begin{align*}\n",
    "  Total Cost &= ((0,81 * 16 * A) + (0,19 * 16 * B)) + (0,27 * 84 * B)\\\\\n",
    "\\end{align*} \n",
    "<center>harus lebih kecil dari</center>    \n",
    "\n",
    "\\begin{align*}\n",
    "  Customer Acquisiton Cost + Customer Retention Cost &= (B * 16) atau (A * 100)\\\\\n",
    "\\end{align*} "
   ]
  },
  {
   "attachments": {},
   "cell_type": "markdown",
   "metadata": {},
   "source": [
    "mengingat asumsi retention cost lebih murah dibanding acquisition maka saya memilih A*100 sebagai batas ambang."
   ]
  },
  {
   "attachments": {},
   "cell_type": "markdown",
   "metadata": {},
   "source": [
    "Karna itu perbandingan antar retention cost dan acquisition cost harus memenuhi:"
   ]
  },
  {
   "attachments": {},
   "cell_type": "markdown",
   "metadata": {},
   "source": [
    "\\begin{align*}\n",
    "  A &< 0,29 B\\\\\n",
    "\\end{align*}  "
   ]
  },
  {
   "attachments": {},
   "cell_type": "markdown",
   "metadata": {},
   "source": [
    "Jika dapat memenuhi asumsi tersebut maka model machine learning dapat membantu menghemat Cost Retention maksimal sebesar 7,14%"
   ]
  },
  {
   "attachments": {},
   "cell_type": "markdown",
   "metadata": {},
   "source": [
    " <h3>Rekomendasi</h3>"
   ]
  },
  {
   "attachments": {},
   "cell_type": "markdown",
   "metadata": {},
   "source": [
    "1. Dalam analisa dan pengembangan model untuk prediksi churn pada karakteristik customer e-commerce ini, terdapat beberapa hal yang dapat mempengaruhi Customer Retention seperti Customer Retention Cost dan Acquisition Cost. Untuk itu kemampuan model memprediksi juga harus diikuti dengan strategi retensi kustomer yang efektif dan murah.  \n",
    "2. Dalam koleksi data dapat ditambahkan fitur-fitur yang membantu performa model dalam memprediksi, karna pada dasar-nya disaat menerapkan machine-learning tidak hanya churn yang bisa diprediksi.  \n",
    "3. Dalam memprediksi customer churn, model dapat melakukan penghematan sebesar 7%, sangat merekomendasikan untuk menerapkan machine learning pada aspek-aspek lain seperti Recommendation System dan Campaign Targeting."
   ]
  }
 ],
 "metadata": {
  "kernelspec": {
   "display_name": "base",
   "language": "python",
   "name": "python3"
  },
  "language_info": {
   "codemirror_mode": {
    "name": "ipython",
    "version": 3
   },
   "file_extension": ".py",
   "mimetype": "text/x-python",
   "name": "python",
   "nbconvert_exporter": "python",
   "pygments_lexer": "ipython3",
   "version": "3.9.13"
  },
  "orig_nbformat": 4,
  "vscode": {
   "interpreter": {
    "hash": "86b876b27ca5c2d1364eeb23e2b9702e4618994875f621a0c288ea87a3030d46"
   }
  }
 },
 "nbformat": 4,
 "nbformat_minor": 2
}
